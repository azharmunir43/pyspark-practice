{
 "cells": [
  {
   "cell_type": "code",
   "execution_count": 13,
   "metadata": {},
   "outputs": [],
   "source": [
    "from pymongo import MongoClient"
   ]
  },
  {
   "cell_type": "code",
   "execution_count": 14,
   "metadata": {},
   "outputs": [],
   "source": [
    "mongo = MongoClient()\n",
    "\n",
    "# database\n",
    "soccer_db = mongo['soccer-tweets']\n",
    "\n",
    "# collection\n",
    "tweets = soccer_db['users']"
   ]
  },
  {
   "cell_type": "code",
   "execution_count": 15,
   "metadata": {},
   "outputs": [
    {
     "data": {
      "text/plain": [
       "11188"
      ]
     },
     "execution_count": 15,
     "metadata": {},
     "output_type": "execute_result"
    }
   ],
   "source": [
    "# total doc size\n",
    "tweets.count_documents(filter={})"
   ]
  },
  {
   "cell_type": "code",
   "execution_count": 16,
   "metadata": {},
   "outputs": [
    {
     "data": {
      "text/plain": [
       "{'_id': ObjectId('578ffa8e7eb9513f4f55a935'),\n",
       " 'user_name': 'koteras',\n",
       " 'retweet_count': 0,\n",
       " 'tweet_followers_count': 461,\n",
       " 'source': '<a href=\"http://twitter.com/download/iphone\" rel=\"nofollow\">Twitter for iPhone</a>',\n",
       " 'coordinates': None,\n",
       " 'tweet_mentioned_count': 1,\n",
       " 'tweet_ID': '755891629932675072',\n",
       " 'tweet_text': 'RT @ochocinco: I beat them all for 10 straight hours #FIFA16KING  https://t.co/BFnV6jfkBL',\n",
       " 'user': {'CreatedAt': datetime.datetime(2011, 12, 27, 9, 4, 1),\n",
       "  'FavouritesCount': 5223,\n",
       "  'FollowersCount': 461,\n",
       "  'FriendsCount': 619,\n",
       "  'UserId': 447818090,\n",
       "  'Location': '501'}}"
      ]
     },
     "execution_count": 16,
     "metadata": {},
     "output_type": "execute_result"
    }
   ],
   "source": [
    "# sample row\n",
    "tweets.find_one(filter={})"
   ]
  },
  {
   "cell_type": "markdown",
   "metadata": {},
   "source": [
    "#### Q1: How many tweets have location not null?"
   ]
  },
  {
   "cell_type": "code",
   "execution_count": 17,
   "metadata": {},
   "outputs": [
    {
     "data": {
      "text/plain": [
       "0"
      ]
     },
     "execution_count": 17,
     "metadata": {},
     "output_type": "execute_result"
    }
   ],
   "source": [
    "# coordinates: that exist and has Non Null value\n",
    "tweets.count_documents({\"coordinates\": {'$ne' : None}})"
   ]
  },
  {
   "cell_type": "code",
   "execution_count": 18,
   "metadata": {},
   "outputs": [
    {
     "data": {
      "text/plain": [
       "6937"
      ]
     },
     "execution_count": 18,
     "metadata": {},
     "output_type": "execute_result"
    }
   ],
   "source": [
    "# user.Location: that exist and has Non Null value\n",
    "tweets.count_documents({\"user.Location\": {'$ne' : None}})"
   ]
  },
  {
   "cell_type": "markdown",
   "metadata": {},
   "source": [
    "####  Q2: How many people have more followers than friends?"
   ]
  },
  {
   "cell_type": "code",
   "execution_count": 19,
   "metadata": {},
   "outputs": [
    {
     "data": {
      "text/plain": [
       "4971"
      ]
     },
     "execution_count": 19,
     "metadata": {},
     "output_type": "execute_result"
    }
   ],
   "source": [
    "len(tweets.distinct('user.UserId', {'$expr' : {'$gt' : ['$user.FollowersCount', '$user.FriendsCount']}}))"
   ]
  },
  {
   "cell_type": "markdown",
   "metadata": {},
   "source": [
    "OR"
   ]
  },
  {
   "cell_type": "code",
   "execution_count": 20,
   "metadata": {},
   "outputs": [
    {
     "name": "stdout",
     "output_type": "stream",
     "text": [
      "4971\n"
     ]
    }
   ],
   "source": [
    "pipeline = [\n",
    "    \n",
    "    {'$match': {'$expr' : {'$gt' : ['$user.FollowersCount', '$user.FriendsCount']}}},\n",
    "    \n",
    "    {'$group' : { '_id' : \"$user.UserId\"}},\n",
    "    \n",
    "    {'$group': {'_id' : None,  'count': { '$sum': 1 }}}\n",
    "]\n",
    "\n",
    "results_ = tweets.aggregate(pipeline)\n",
    "\n",
    "results = list(results_)\n",
    "\n",
    "print(results[0]['count'])"
   ]
  },
  {
   "cell_type": "markdown",
   "metadata": {},
   "source": [
    "#### Q3: Return text of tweets which have the string \"http://\" ?"
   ]
  },
  {
   "cell_type": "code",
   "execution_count": 21,
   "metadata": {},
   "outputs": [],
   "source": [
    "results_ = tweets.find({'tweet_text': {'$regex' : '.*http://*.'}}, {'tweet_text':1})"
   ]
  },
  {
   "cell_type": "code",
   "execution_count": 22,
   "metadata": {},
   "outputs": [
    {
     "name": "stdout",
     "output_type": "stream",
     "text": [
      "{'_id': ObjectId('57965376c381590a1c83bbc4'), 'tweet_text': 'RT @BWGotheem: Top 15 Sexiest Woman of the World Cup😍👌🏼😱\\n\\nhttp://t.co/jRQy5AkVtW http://t.co/aMuXZ3gcWy'}\n"
     ]
    }
   ],
   "source": [
    "for row in results_:\n",
    "    print(row)\n",
    "    break"
   ]
  },
  {
   "cell_type": "markdown",
   "metadata": {},
   "source": [
    "#### Q4: Return all the tweets which contain text \"England\" but not \"UEFA\" ?"
   ]
  },
  {
   "cell_type": "code",
   "execution_count": 23,
   "metadata": {},
   "outputs": [
    {
     "name": "stdout",
     "output_type": "stream",
     "text": [
      "{'_id': ObjectId('57965ef7c38159118f94f8b4'), 'user_name': 'fifafoot', 'retweet_count': 0, 'tweet_followers_count': 838, 'source': '<a href=\"http://twitterfeed.com\" rel=\"nofollow\">twitterfeed</a>', 'coordinates': None, 'tweet_mentioned_count': 0, 'tweet_ID': '757648709446270976', 'tweet_text': '#fifa #foot Newly appointed England manager Sam Allardyce: BURTON-UPON-TRENT, ENGLAND... https://t.co/FpqWudQM1Y https://t.co/2L0uFYRTqr', 'user': {'CreatedAt': datetime.datetime(2009, 9, 9, 19, 56, 14), 'FavouritesCount': 0, 'FollowersCount': 838, 'FriendsCount': 285, 'UserId': 72935312, 'Location': 'London'}}\n"
     ]
    }
   ],
   "source": [
    "filter_ = {\n",
    "    \n",
    "    '$and': [\n",
    "        {'tweet_text': {'$regex' : '.*England*.', '$options': 'i'}},\n",
    "        {'tweet_text': {'$not' : {'$regex' : '.*UEFA*.'}}}\n",
    "    ]\n",
    "}\n",
    "\n",
    "results_ = tweets.find(filter_)\n",
    "\n",
    "for row in results_:\n",
    "    print(row)\n",
    "    break"
   ]
  },
  {
   "cell_type": "markdown",
   "metadata": {},
   "source": [
    "#### Q5: Get all the tweets from the location \"Ireland\" and contains the string \"UEFA\"?"
   ]
  },
  {
   "cell_type": "code",
   "execution_count": 24,
   "metadata": {},
   "outputs": [
    {
     "name": "stdout",
     "output_type": "stream",
     "text": [
      "{'_id': ObjectId('578ffb9a7eb951401527b554'), 'user_name': 'futbol__97', 'retweet_count': 0, 'tweet_followers_count': 400, 'source': '<a href=\"http://twitter.com/download/iphone\" rel=\"nofollow\">Twitter for iPhone</a>', 'coordinates': None, 'tweet_mentioned_count': 1, 'tweet_ID': '755892754287304705', 'tweet_text': 'RT @DundalkFC: Full Time FH 2-2 Dundalk, Dundalk qualify to the next round of the UEFA Champions League!', 'user': {'CreatedAt': datetime.datetime(2014, 7, 14, 0, 48, 21), 'FavouritesCount': 19708, 'FollowersCount': 400, 'FriendsCount': 398, 'UserId': -1586166401, 'Location': 'Ireland '}}\n"
     ]
    }
   ],
   "source": [
    "filter_ = {\n",
    "    \n",
    "    '$and': [\n",
    "        {'user.Location': {'$regex' : '.*Ireland*.', '$options' : 'i'}},\n",
    "        {'tweet_text': {'$regex' : '.*UEFA*.'}}\n",
    "    ]\n",
    "}\n",
    "\n",
    "\n",
    "results_ = tweets.find(filter_)\n",
    "\n",
    "for row in results_:\n",
    "    print(row)\n",
    "    break"
   ]
  },
  {
   "cell_type": "code",
   "execution_count": null,
   "metadata": {},
   "outputs": [],
   "source": []
  },
  {
   "cell_type": "code",
   "execution_count": null,
   "metadata": {},
   "outputs": [],
   "source": []
  }
 ],
 "metadata": {
  "kernelspec": {
   "display_name": "Python 3",
   "language": "python",
   "name": "python3"
  },
  "language_info": {
   "codemirror_mode": {
    "name": "ipython",
    "version": 3
   },
   "file_extension": ".py",
   "mimetype": "text/x-python",
   "name": "python",
   "nbconvert_exporter": "python",
   "pygments_lexer": "ipython3",
   "version": "3.6.8"
  }
 },
 "nbformat": 4,
 "nbformat_minor": 2
}
