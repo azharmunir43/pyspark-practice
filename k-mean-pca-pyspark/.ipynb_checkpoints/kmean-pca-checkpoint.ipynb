{
 "cells": [
  {
   "cell_type": "markdown",
   "metadata": {
    "id": "kPt5q27L5557"
   },
   "source": [
    "### K-Means & PCA\n",
    "\n",
    "There are **7 Questions** in this assignment. All are mandatory. Do the assignment on Google CoLab. Write your code in the cells for each question and submit this notebook on LMS. "
   ]
  },
  {
   "cell_type": "markdown",
   "metadata": {
    "id": "p0-YhEpP_Ds-"
   },
   "source": [
    "### Setup"
   ]
  },
  {
   "cell_type": "markdown",
   "metadata": {
    "id": "Zsj5WYpR9QId"
   },
   "source": [
    "Let's setup Spark on your Colab environment.  Run the cell below!"
   ]
  },
  {
   "cell_type": "code",
   "execution_count": 1,
   "metadata": {
    "id": "k-qHai2252mI"
   },
   "outputs": [],
   "source": [
    "# !pip install pyspark\n",
    "# !pip install -U -q PyDrive\n",
    "# !apt install openjdk-8-jdk-headless -qq\n",
    "# import os\n",
    "# os.environ[\"JAVA_HOME\"] = \"/usr/lib/jvm/java-8-openjdk-amd64\""
   ]
  },
  {
   "cell_type": "markdown",
   "metadata": {
    "id": "qwtlO4_m_LbQ"
   },
   "source": [
    "Now we import some of the libraries usually needed by our workload.\n",
    "\n",
    "\n",
    "\n"
   ]
  },
  {
   "cell_type": "code",
   "execution_count": 2,
   "metadata": {},
   "outputs": [],
   "source": [
    "import findspark\n",
    "findspark.init()"
   ]
  },
  {
   "cell_type": "code",
   "execution_count": 3,
   "metadata": {},
   "outputs": [],
   "source": [
    "import pyspark\n",
    "from pyspark.sql import *\n",
    "from pyspark.sql.types import *\n",
    "from pyspark.sql.functions import *\n",
    "from pyspark import SparkContext, SparkConf\n",
    "\n",
    "from pyspark.ml.clustering import KMeans\n",
    "from pyspark.ml.evaluation import ClusteringEvaluator"
   ]
  },
  {
   "cell_type": "code",
   "execution_count": 4,
   "metadata": {
    "id": "twk-K-jilWK7"
   },
   "outputs": [],
   "source": [
    "import pandas as pd\n",
    "import numpy as np\n",
    "import matplotlib.pyplot as plt\n",
    "%matplotlib inline"
   ]
  },
  {
   "cell_type": "markdown",
   "metadata": {
    "id": "BtrJlMBt1Ela"
   },
   "source": [
    "Let's initialize the Spark context."
   ]
  },
  {
   "cell_type": "code",
   "execution_count": 5,
   "metadata": {
    "id": "Vm3sAVeK1EDZ"
   },
   "outputs": [],
   "source": [
    "# create the session\n",
    "conf = SparkConf()\n",
    "\n",
    "# create the context\n",
    "sc = pyspark.SparkContext(conf=conf)\n",
    "spark = SparkSession.builder.getOrCreate()"
   ]
  },
  {
   "cell_type": "markdown",
   "metadata": {
    "id": "YqovskkH1DmC"
   },
   "source": [
    "You can easily check the current version and get the link of the web interface. In the Spark UI, you can monitor the progress of your job and debug the performance bottlenecks (if your Colab is running with a **local runtime**)."
   ]
  },
  {
   "cell_type": "code",
   "execution_count": 6,
   "metadata": {
    "id": "DueQggJc1DDk"
   },
   "outputs": [
    {
     "data": {
      "text/html": [
       "\n",
       "            <div>\n",
       "                <p><b>SparkSession - in-memory</b></p>\n",
       "                \n",
       "        <div>\n",
       "            <p><b>SparkContext</b></p>\n",
       "\n",
       "            <p><a href=\"http://192.168.10.50:4040\">Spark UI</a></p>\n",
       "\n",
       "            <dl>\n",
       "              <dt>Version</dt>\n",
       "                <dd><code>v2.4.3</code></dd>\n",
       "              <dt>Master</dt>\n",
       "                <dd><code>local[*]</code></dd>\n",
       "              <dt>AppName</dt>\n",
       "                <dd><code>pyspark-shell</code></dd>\n",
       "            </dl>\n",
       "        </div>\n",
       "        \n",
       "            </div>\n",
       "        "
      ],
      "text/plain": [
       "<pyspark.sql.session.SparkSession at 0x217caea7b70>"
      ]
     },
     "execution_count": 6,
     "metadata": {},
     "output_type": "execute_result"
    }
   ],
   "source": [
    "spark"
   ]
  },
  {
   "cell_type": "markdown",
   "metadata": {
    "id": "kAYRX2PMm0L6"
   },
   "source": [
    "### Data Preprocessing"
   ]
  },
  {
   "cell_type": "markdown",
   "metadata": {
    "id": "7hXdMR6wnEIM"
   },
   "source": [
    "In this Colab, rather than downloading a file from Google Drive, we will load a famous machine learning dataset, the [Breast Cancer Wisconsin dataset](https://scikit-learn.org/stable/modules/generated/sklearn.datasets.load_breast_cancer.html), using the ```scikit-learn``` datasets loader."
   ]
  },
  {
   "cell_type": "code",
   "execution_count": 7,
   "metadata": {
    "id": "5K93ABEy9Zlo"
   },
   "outputs": [],
   "source": [
    "from sklearn.datasets import load_breast_cancer\n",
    "breast_cancer = load_breast_cancer()"
   ]
  },
  {
   "cell_type": "markdown",
   "metadata": {
    "id": "wpsaYOqRxar2"
   },
   "source": [
    "For convenience, given that the dataset is small, we first construct a Pandas dataframe, tune the schema, and then convert it into a Spark dataframe."
   ]
  },
  {
   "cell_type": "code",
   "execution_count": 8,
   "metadata": {
    "id": "Oitav_xhQD9w"
   },
   "outputs": [
    {
     "name": "stdout",
     "output_type": "stream",
     "text": [
      "root\n",
      " |-- mean radius: double (nullable = false)\n",
      " |-- mean texture: double (nullable = false)\n",
      " |-- mean perimeter: double (nullable = false)\n",
      " |-- mean area: double (nullable = false)\n",
      " |-- mean smoothness: double (nullable = false)\n",
      " |-- mean compactness: double (nullable = false)\n",
      " |-- mean concavity: double (nullable = false)\n",
      " |-- mean concave points: double (nullable = false)\n",
      " |-- mean symmetry: double (nullable = false)\n",
      " |-- mean fractal dimension: double (nullable = false)\n",
      " |-- radius error: double (nullable = false)\n",
      " |-- texture error: double (nullable = false)\n",
      " |-- perimeter error: double (nullable = false)\n",
      " |-- area error: double (nullable = false)\n",
      " |-- smoothness error: double (nullable = false)\n",
      " |-- compactness error: double (nullable = false)\n",
      " |-- concavity error: double (nullable = false)\n",
      " |-- concave points error: double (nullable = false)\n",
      " |-- symmetry error: double (nullable = false)\n",
      " |-- fractal dimension error: double (nullable = false)\n",
      " |-- worst radius: double (nullable = false)\n",
      " |-- worst texture: double (nullable = false)\n",
      " |-- worst perimeter: double (nullable = false)\n",
      " |-- worst area: double (nullable = false)\n",
      " |-- worst smoothness: double (nullable = false)\n",
      " |-- worst compactness: double (nullable = false)\n",
      " |-- worst concavity: double (nullable = false)\n",
      " |-- worst concave points: double (nullable = false)\n",
      " |-- worst symmetry: double (nullable = false)\n",
      " |-- worst fractal dimension: double (nullable = false)\n",
      " |-- features: array (nullable = false)\n",
      " |    |-- element: double (containsNull = false)\n",
      "\n"
     ]
    }
   ],
   "source": [
    "pd_df = pd.DataFrame(breast_cancer.data, columns=breast_cancer.feature_names)\n",
    "df = spark.createDataFrame(pd_df)\n",
    "\n",
    "def set_df_columns_nullable(spark, df, column_list, nullable=False):\n",
    "    for struct_field in df.schema:\n",
    "        if struct_field.name in column_list:\n",
    "            struct_field.nullable = nullable\n",
    "    df_mod = spark.createDataFrame(df.rdd, df.schema)\n",
    "    return df_mod\n",
    "\n",
    "df = set_df_columns_nullable(spark, df, df.columns)\n",
    "df = df.withColumn('features', array(df.columns))\n",
    "vectors = df.rdd.map(lambda row: Vectors.dense(row.features))\n",
    "\n",
    "df.printSchema()"
   ]
  },
  {
   "cell_type": "markdown",
   "metadata": {
    "id": "TtR1xRvonxiO"
   },
   "source": [
    "With the next cell, we build the two datastructures that we will be using throughout this Colab:\n",
    "\n",
    "\n",
    "*   ```features```, a dataframe of Dense vectors, containing all the original features in the dataset;\n",
    "*   ```labels```, a series of binary labels indicating if the corresponding set of features belongs to a subject with breast cancer, or not.\n",
    "\n"
   ]
  },
  {
   "cell_type": "code",
   "execution_count": 9,
   "metadata": {
    "id": "GP23Xkgwi0SD"
   },
   "outputs": [],
   "source": [
    "from pyspark.ml.linalg import Vectors\n",
    "features = spark.createDataFrame(vectors.map(Row), [\"features\"])\n",
    "labels = pd.Series(breast_cancer.target)"
   ]
  },
  {
   "cell_type": "markdown",
   "metadata": {
    "id": "QrS41E2tkVYb"
   },
   "source": [
    "#**Question01:**"
   ]
  },
  {
   "cell_type": "markdown",
   "metadata": {
    "id": "ebLNUxP0_8x3"
   },
   "source": [
    "\n",
    "\n",
    "If you run successfully the Setup and Data Preprocessing stages, you are now ready to cluster the data with the [K-means](https://spark.apache.org/docs/latest/ml-clustering.html) algorithm included in MLlib (Spark's Machine Learning library).\n",
    "Set the ```k``` parameter to **2**, fit the model, and the compute the [Silhouette score](https://en.wikipedia.org/wiki/Silhouette_(clustering)) (i.e., a measure of quality of the obtained clustering).  \n",
    "\n",
    "**IMPORTANT:** use the MLlib implementation of the Silhouette score (via ```ClusteringEvaluator```)."
   ]
  },
  {
   "cell_type": "code",
   "execution_count": 11,
   "metadata": {
    "id": "0xVIfPHZwWaE"
   },
   "outputs": [
    {
     "name": "stdout",
     "output_type": "stream",
     "text": [
      "Silhouette with squared euclidean distance = 0.8342904262826144\n"
     ]
    }
   ],
   "source": [
    "def train_KMeans(features, k):\n",
    "    # trains a k-means model.\n",
    "    kmeans = KMeans().setK(k).setSeed(1)\n",
    "    model = kmeans.fit(features)\n",
    "    \n",
    "    # make predictions\n",
    "    predictions = model.transform(features)\n",
    "\n",
    "    # evaluate clustering by computing Silhouette score\n",
    "    evaluator = ClusteringEvaluator()\n",
    "\n",
    "    silhouette = evaluator.evaluate(predictions)\n",
    "    \n",
    "    return model, predictions, silhouette\n",
    "\n",
    "# call to train\n",
    "model, predictions, silhouette = train_KMeans(features, 2)\n",
    "\n",
    "print(\"Silhouette with squared euclidean distance = \" + str(silhouette))"
   ]
  },
  {
   "cell_type": "markdown",
   "metadata": {
    "id": "1w6B376ElyKn"
   },
   "source": [
    "#**Question02:**"
   ]
  },
  {
   "cell_type": "markdown",
   "metadata": {
    "id": "TgOGnorwl3FO"
   },
   "source": [
    "Compute the within cluster sum of squares (WSS) using your **OWN** method in Spark. Note that the score can be be obtained using the `summary.trainingCost` method of the fitted kmeans model."
   ]
  },
  {
   "cell_type": "code",
   "execution_count": 12,
   "metadata": {
    "id": "v95ngZOOl3nE"
   },
   "outputs": [
    {
     "name": "stdout",
     "output_type": "stream",
     "text": [
      "Within Cluster Sum of Squared Error (Own) = 77943099.87829885\n",
      "Within Cluster Sum of Squared Error (Summary) = 77943099.87829879\n"
     ]
    }
   ],
   "source": [
    "# get cluster centers to compute distances from\n",
    "centers = model.clusterCenters() \n",
    "\n",
    "# evaluate clustering by computing Within Set Sum of Squared Errors\n",
    "def error(row):\n",
    "    point = row['features'].toArray()\n",
    "    cluster = row['prediction']\n",
    "    \n",
    "    center = centers[cluster]\n",
    "    \n",
    "    distances = point - center\n",
    "    \n",
    "    return np.sum(np.square(distances))\n",
    "\n",
    "WSS = predictions.rdd.map(lambda row: error(row)).reduce(lambda x, y: x + y)\n",
    "\n",
    "print(\"Within Cluster Sum of Squared Error (Own) = \" + str(WSS))\n",
    "print(\"Within Cluster Sum of Squared Error (Summary) = \" + str(model.summary.trainingCost))"
   ]
  },
  {
   "cell_type": "markdown",
   "metadata": {
    "id": "P0d1WIdIkael"
   },
   "source": [
    "#**Question03:**"
   ]
  },
  {
   "cell_type": "markdown",
   "metadata": {
    "id": "5GB09n7sqTO6"
   },
   "source": [
    "**Take** the predictions produced by K-means, and compare them with the ```labels``` variable (i.e., the ground truth from our dataset).  \n",
    "\n",
    "Compute how many data points in the dataset have been clustered correctly (i.e., positive cases in one cluster, negative cases in the other).\n",
    "\n",
    "*HINT*: you can use ```np.count_nonzero(series_a == series_b)``` to quickly compute the element-wise comparison of two series.\n",
    "\n",
    "**IMPORTANT**: K-means is a clustering algorithm, so it will not output a label for each data point, but just a cluster identifier!  As such, label ```0``` does not necessarily match the cluster identifier ```0```.\n"
   ]
  },
  {
   "cell_type": "code",
   "execution_count": 14,
   "metadata": {},
   "outputs": [
    {
     "data": {
      "text/plain": [
       "486"
      ]
     },
     "execution_count": 14,
     "metadata": {},
     "output_type": "execute_result"
    }
   ],
   "source": [
    "cluster_id_label_mapping = {1:0, 0:1}\n",
    "\n",
    "def get_accuracy(predictions, labels):\n",
    "    \n",
    "    predictions_pdf = predictions.select('prediction').toPandas()\n",
    "    \n",
    "    predictions_pdf['predict_label_adj'] = predictions_pdf['prediction'].map(cluster_id_label_mapping)\n",
    "    \n",
    "    return np.count_nonzero(labels == predictions_pdf.predict_label_adj)\n",
    "\n",
    "get_accuracy(predictions, labels)"
   ]
  },
  {
   "cell_type": "markdown",
   "metadata": {
    "id": "6NuATuqVkokQ"
   },
   "source": [
    "#**Question03:**"
   ]
  },
  {
   "cell_type": "markdown",
   "metadata": {
    "id": "fLIprM1JsdTU"
   },
   "source": [
    "Now perform dimensionality reduction on the ```features``` using the [PCA](https://spark.apache.org/docs/latest/ml-features.html#pca) statistical procedure, available as well in MLlib.\n",
    "\n",
    "Set the ```k``` parameter to **2**, effectively reducing the dataset size of a **15X** factor."
   ]
  },
  {
   "cell_type": "code",
   "execution_count": 15,
   "metadata": {
    "id": "p4J8JMDkSb24"
   },
   "outputs": [],
   "source": [
    "from pyspark.ml.feature import PCA\n",
    "\n",
    "\n",
    "pca = PCA(k=2, inputCol=\"features\", outputCol=\"pca\")\n",
    "model = pca.fit(features)\n",
    "\n",
    "transformed = model.transform(features)\n",
    "\n",
    "pca_features = transformed.select('pca').withColumnRenamed('pca', 'features')"
   ]
  },
  {
   "cell_type": "markdown",
   "metadata": {
    "id": "1jgjL07hk2D9"
   },
   "source": [
    "#**Question04:**"
   ]
  },
  {
   "cell_type": "markdown",
   "metadata": {
    "id": "8leQR4-atMAl"
   },
   "source": [
    "Now run K-means with the same parameters as above, but on the ```pcaFeatures``` produced by the PCA reduction you just executed.\n"
   ]
  },
  {
   "cell_type": "code",
   "execution_count": 16,
   "metadata": {
    "id": "U_snSSj5k2y5"
   },
   "outputs": [],
   "source": [
    "# train model with pca features\n",
    "model, predictions, silhouette = train_KMeans(pca_features, 2)"
   ]
  },
  {
   "cell_type": "markdown",
   "metadata": {
    "id": "QXZ6Ho5fk9c8"
   },
   "source": [
    "#**Question05:**"
   ]
  },
  {
   "cell_type": "markdown",
   "metadata": {
    "id": "v0jomSzGk8T9"
   },
   "source": [
    "Compute the Silhouette score, as well as the number of data points that have been clustered correctly."
   ]
  },
  {
   "cell_type": "code",
   "execution_count": 17,
   "metadata": {
    "id": "sMUb_afmlIEW"
   },
   "outputs": [
    {
     "name": "stdout",
     "output_type": "stream",
     "text": [
      "Silhouette with squared euclidean distance = 0.8348610363444835\n",
      "Data points that have been clustered correctly = 486\n"
     ]
    }
   ],
   "source": [
    "acc = get_accuracy(predictions, labels)\n",
    "print(\"Silhouette with squared euclidean distance = \" + str(silhouette))\n",
    "print(\"Data points that have been clustered correctly = \" + str(acc))"
   ]
  },
  {
   "cell_type": "markdown",
   "metadata": {
    "id": "Yic6VhS7m4fd"
   },
   "source": [
    "#**Question06:**"
   ]
  },
  {
   "cell_type": "markdown",
   "metadata": {
    "id": "98Jqf4hTnC4f"
   },
   "source": [
    "Visualize the dataset by plotting a scatter plot of the two PCA components. \n",
    "\n",
    "You need to plot two scatter plots:\n",
    "\n",
    "1) Highlight the two **actual** labels in the dataset\n",
    "\n",
    "2) Highlight the two **clusters** found by K-Means in the dataset"
   ]
  },
  {
   "cell_type": "code",
   "execution_count": 21,
   "metadata": {
    "id": "2jfzWUdKnJUJ"
   },
   "outputs": [],
   "source": [
    "pdf = predictions.toPandas()\n",
    "pdf['label'] = labels\n",
    "pdf['predict_label_adj'] = pdf['prediction'].map(cluster_id_label_mapping)\n",
    "# separate out coords\n",
    "pdf['x'] = pdf['features'].apply(lambda f:f[0])\n",
    "pdf['y'] = pdf['features'].apply(lambda f:f[1])"
   ]
  },
  {
   "cell_type": "code",
   "execution_count": 20,
   "metadata": {},
   "outputs": [
    {
     "data": {
      "image/png": "[encoded data removed]",
      "text/plain": [
       "<Figure size 432x288 with 1 Axes>"
      ]
     },
     "metadata": {
      "needs_background": "light"
     },
     "output_type": "display_data"
    }
   ],
   "source": [
    "# predictions\n",
    "plt.scatter(pdf['x'], pdf['y'], c=pdf['prediction'], s=50, cmap='viridis');"
   ]
  },
  {
   "cell_type": "code",
   "execution_count": 19,
   "metadata": {},
   "outputs": [
    {
     "data": {
      "image/png": "[encoded data removed]",
      "text/plain": [
       "<Figure size 432x288 with 1 Axes>"
      ]
     },
     "metadata": {
      "needs_background": "light"
     },
     "output_type": "display_data"
    }
   ],
   "source": [
    "# labels\n",
    "plt.scatter(pdf['x'], pdf['y'], c=labels, s=50, cmap='viridis');"
   ]
  },
  {
   "cell_type": "markdown",
   "metadata": {},
   "source": [
    "Use of `cluster_id_label_mapping` dictionary to assess accuracy makes even more sense by looking at these graphs above, however by applying that adjustment we have below comparison"
   ]
  },
  {
   "cell_type": "code",
   "execution_count": 22,
   "metadata": {},
   "outputs": [
    {
     "data": {
      "image/png": "[encoded data removed]",
      "text/plain": [
       "<Figure size 432x288 with 1 Axes>"
      ]
     },
     "metadata": {
      "needs_background": "light"
     },
     "output_type": "display_data"
    }
   ],
   "source": [
    "# predictions, adjusted labels\n",
    "plt.scatter(pdf['x'], pdf['y'], c=pdf['predict_label_adj'], s=50, cmap='viridis');"
   ]
  },
  {
   "cell_type": "markdown",
   "metadata": {
    "id": "QU43Wr9OnPeQ"
   },
   "source": [
    "#**Question07:**"
   ]
  },
  {
   "cell_type": "markdown",
   "metadata": {
    "id": "A23r3PUrm1iC"
   },
   "source": [
    "Repeat the process of Question01 for K = 1 to 10. **Plot** separately\n",
    "\n",
    "1) the Sihouette score for each K\n",
    "\n",
    "2) the within cluster sum of squares (WSS) for each K"
   ]
  },
  {
   "cell_type": "code",
   "execution_count": 23,
   "metadata": {
    "id": "zPJ_JWpMm0f8"
   },
   "outputs": [],
   "source": [
    "ks = [x for x in range(2, 11)]\n",
    "sils = []\n",
    "wsss = []\n",
    "\n",
    "for k in ks:\n",
    "    \n",
    "    model, predictions, silhouette = train_KMeans(features, k)\n",
    "    \n",
    "    sils.append(silhouette)\n",
    "    wsss.append(model.summary.trainingCost)    \n"
   ]
  },
  {
   "cell_type": "code",
   "execution_count": 24,
   "metadata": {},
   "outputs": [
    {
     "data": {
      "text/plain": [
       "[<matplotlib.lines.Line2D at 0x217d070f9e8>]"
      ]
     },
     "execution_count": 24,
     "metadata": {},
     "output_type": "execute_result"
    },
    {
     "data": {
      "image/png": "[encoded data removed]",
      "text/plain": [
       "<Figure size 432x288 with 1 Axes>"
      ]
     },
     "metadata": {
      "needs_background": "light"
     },
     "output_type": "display_data"
    }
   ],
   "source": [
    "# silhouette\n",
    "plt.plot(ks, sils)"
   ]
  },
  {
   "cell_type": "code",
   "execution_count": 25,
   "metadata": {},
   "outputs": [
    {
     "data": {
      "text/plain": [
       "[<matplotlib.lines.Line2D at 0x217d06c3160>]"
      ]
     },
     "execution_count": 25,
     "metadata": {},
     "output_type": "execute_result"
    },
    {
     "data": {
      "image/png": "[encoded data removed]",
      "text/plain": [
       "<Figure size 432x288 with 1 Axes>"
      ]
     },
     "metadata": {
      "needs_background": "light"
     },
     "output_type": "display_data"
    }
   ],
   "source": [
    "# wss\n",
    "plt.plot(ks, wsss)"
   ]
  },
  {
   "cell_type": "code",
   "execution_count": null,
   "metadata": {},
   "outputs": [],
   "source": []
  }
 ],
 "metadata": {
  "colab": {
   "collapsed_sections": [],
   "name": "Assignment04",
   "provenance": [],
   "toc_visible": true
  },
  "kernelspec": {
   "display_name": "Python 3",
   "language": "python",
   "name": "python3"
  },
  "language_info": {
   "codemirror_mode": {
    "name": "ipython",
    "version": 3
   },
   "file_extension": ".py",
   "mimetype": "text/x-python",
   "name": "python",
   "nbconvert_exporter": "python",
   "pygments_lexer": "ipython3",
   "version": "3.6.8"
  }
 },
 "nbformat": 4,
 "nbformat_minor": 1
}
