{
 "cells": [
  {
   "cell_type": "markdown",
   "metadata": {},
   "source": [
    "#### Q 3.1 Provide a short description (not more than 3-4 lines) sketching your spark pipeline"
   ]
  },
  {
   "cell_type": "markdown",
   "metadata": {},
   "source": [
    "\n",
    "Given the input format, pipeline starts by first parsing the text to (key, value) RDD where key is user_id and value is the list of ids for all friends. In order to make recommendtions, we shall know the number of friends shared by any two users. For that, pipeline first constructs pairs of users and then calculate mutual friends count. As a final step, this data is transformed for appropriate representation. Every step is performed using RDD API"
   ]
  },
  {
   "cell_type": "markdown",
   "metadata": {},
   "source": [
    "##### Q 3.2 Recommendation Pipeline"
   ]
  },
  {
   "cell_type": "code",
   "execution_count": 1,
   "metadata": {},
   "outputs": [],
   "source": [
    "import findspark\n",
    "findspark.init()"
   ]
  },
  {
   "cell_type": "code",
   "execution_count": 2,
   "metadata": {},
   "outputs": [],
   "source": [
    "from pyspark import SparkContext, SparkConf\n",
    "from itertools import combinations"
   ]
  },
  {
   "cell_type": "code",
   "execution_count": 3,
   "metadata": {},
   "outputs": [],
   "source": [
    "conf = SparkConf()\n",
    "sc = SparkContext(conf=conf)"
   ]
  },
  {
   "cell_type": "code",
   "execution_count": 4,
   "metadata": {},
   "outputs": [],
   "source": [
    "# input\n",
    "rdd = sc.textFile('friends.txt')"
   ]
  },
  {
   "cell_type": "code",
   "execution_count": 5,
   "metadata": {},
   "outputs": [
    {
     "data": {
      "text/plain": [
       "['0\\t1,2,3,4,5,6,7,8,9,10,11,12,13,14,15,16,17,18,19,20,21,22,23,24,25,26,27,28,29,30,31,32,33,34,35,36,37,38,39,40,41,42,43,44,45,46,47,48,49,50,51,52,53,54,55,56,57,58,59,60,61,62,63,64,65,66,67,68,69,70,71,72,73,74,75,76,77,78,79,80,81,82,83,84,85,86,87,88,89,90,91,92,93,94']"
      ]
     },
     "execution_count": 5,
     "metadata": {},
     "output_type": "execute_result"
    }
   ],
   "source": [
    "rdd.take(1)"
   ]
  },
  {
   "cell_type": "code",
   "execution_count": 6,
   "metadata": {},
   "outputs": [],
   "source": [
    "def split_line(line):\n",
    "    \n",
    "    splitted = line.split()\n",
    "    user = int(splitted[0])\n",
    "    \n",
    "    try:\n",
    "        friends = list(map(int, splitted[1].strip().split(',')))\n",
    "    except IndexError as e:\n",
    "        friends = []\n",
    "    \n",
    "    return user, friends\n",
    "\n",
    "friends_rdd = rdd.map(split_line)"
   ]
  },
  {
   "cell_type": "code",
   "execution_count": 7,
   "metadata": {},
   "outputs": [],
   "source": [
    "# form pairs, each pair represents a connection (first degree) or a possible recommendation\n",
    "\n",
    "def form_pairs(data):\n",
    "    user = data[0]\n",
    "    friends = data[1]\n",
    "    \n",
    "    pairs = []\n",
    "    \n",
    "    for friend in friends:\n",
    "        p = sorted((user, friend))\n",
    "        pairs.append((p, 0))\n",
    "        \n",
    "    mutual_friend_pairs = combinations(friends, 2)\n",
    "    \n",
    "    for mfp in mutual_friend_pairs:\n",
    "#         sorting would have been needed in friends list weren't sorted already.\n",
    "#         p = sorted(mfp)\n",
    "        pairs.append((mfp, 1))\n",
    "        \n",
    "    return pairs\n",
    "\n",
    "pairs_rdd = friends_rdd.flatMap(form_pairs)"
   ]
  },
  {
   "cell_type": "code",
   "execution_count": 8,
   "metadata": {},
   "outputs": [],
   "source": [
    "# filter out first degree connections & calculate count\n",
    "\n",
    "agg_rdd = pairs_rdd.filter(lambda pair: pair[1] == 1).reduceByKey(lambda x, y: x + y)"
   ]
  },
  {
   "cell_type": "code",
   "execution_count": 9,
   "metadata": {},
   "outputs": [
    {
     "data": {
      "text/plain": [
       "PythonRDD[7] at RDD at PythonRDD.scala:53"
      ]
     },
     "execution_count": 9,
     "metadata": {},
     "output_type": "execute_result"
    }
   ],
   "source": [
    "agg_rdd.cache()"
   ]
  },
  {
   "cell_type": "code",
   "execution_count": 10,
   "metadata": {},
   "outputs": [
    {
     "data": {
      "text/plain": [
       "[((1, 3), 2),\n",
       " ((1, 5), 5),\n",
       " ((1, 7), 1),\n",
       " ((1, 9), 1),\n",
       " ((1, 11), 1),\n",
       " ((1, 13), 2),\n",
       " ((1, 15), 1),\n",
       " ((1, 17), 1),\n",
       " ((1, 19), 2),\n",
       " ((1, 21), 1)]"
      ]
     },
     "execution_count": 10,
     "metadata": {},
     "output_type": "execute_result"
    }
   ],
   "source": [
    "agg_rdd.take(10)"
   ]
  },
  {
   "cell_type": "code",
   "execution_count": 11,
   "metadata": {},
   "outputs": [],
   "source": [
    "# change data represention, row for each friend in pair\n",
    "mutual_friends_rdd = agg_rdd.flatMap(lambda pair_: ((pair_[0][0], (pair_[0][1], pair_[1])), (pair_[0][1], (pair_[0][0], pair_[1]))))"
   ]
  },
  {
   "cell_type": "code",
   "execution_count": 12,
   "metadata": {},
   "outputs": [
    {
     "data": {
      "text/plain": [
       "[(1, (3, 2)),\n",
       " (3, (1, 2)),\n",
       " (1, (5, 5)),\n",
       " (5, (1, 5)),\n",
       " (1, (7, 1)),\n",
       " (7, (1, 1)),\n",
       " (1, (9, 1)),\n",
       " (9, (1, 1)),\n",
       " (1, (11, 1)),\n",
       " (11, (1, 1))]"
      ]
     },
     "execution_count": 12,
     "metadata": {},
     "output_type": "execute_result"
    }
   ],
   "source": [
    "mutual_friends_rdd.take(10)"
   ]
  },
  {
   "cell_type": "code",
   "execution_count": 13,
   "metadata": {},
   "outputs": [],
   "source": [
    "# sort and get recommendations\n",
    "\n",
    "def get_recommendations(network):\n",
    "    network.sort(key=lambda x: (-x[1], x[0]))\n",
    "    \n",
    "    rec = [r[0] for r in network[:10]]\n",
    "    \n",
    "    rec_ = [str(r_) for r_ in rec]\n",
    "    \n",
    "    return ','.join(rec_)\n",
    "\n",
    "\n",
    "recommendations = mutual_friends_rdd.groupByKey().map(lambda x: (x[0], get_recommendations(list(x[1]))))"
   ]
  },
  {
   "cell_type": "code",
   "execution_count": 14,
   "metadata": {},
   "outputs": [
    {
     "data": {
      "text/plain": [
       "PythonRDD[14] at RDD at PythonRDD.scala:53"
      ]
     },
     "execution_count": 14,
     "metadata": {},
     "output_type": "execute_result"
    }
   ],
   "source": [
    "recommendations.cache()"
   ]
  },
  {
   "cell_type": "code",
   "execution_count": 15,
   "metadata": {},
   "outputs": [
    {
     "data": {
      "text/plain": [
       "[(11, '27552,7785,27573,27574,27589,27590,27600,27617,27620,27667')]"
      ]
     },
     "execution_count": 15,
     "metadata": {},
     "output_type": "execute_result"
    }
   ],
   "source": [
    "# sanity check\n",
    "recommendations.filter(lambda x: x[0] == 11).take(10)"
   ]
  },
  {
   "cell_type": "code",
   "execution_count": 20,
   "metadata": {},
   "outputs": [],
   "source": [
    "# write to file\n",
    "def toTSVLine(data):\n",
    "    return '\\t'.join(str(d) for d in data)\n",
    "\n",
    "lines = recommendations.map(toTSVLine)\n",
    "\n",
    "lines.coalesce(1).saveAsTextFile('recommendation.txt')"
   ]
  },
  {
   "cell_type": "markdown",
   "metadata": {},
   "source": [
    "##### Q3.3 Provide recommendations for user IDs: 924, 8941, 8942, 9019, 9020, 9021, 9022, 9990, 9992, 9993"
   ]
  },
  {
   "cell_type": "code",
   "execution_count": 16,
   "metadata": {},
   "outputs": [
    {
     "data": {
      "text/plain": [
       "[(9020, '9021,320,9016,9017,9018,9019,9022,317,9023'),\n",
       " (9022, '9019,9020,9021,317,320,9016,9017,9018,9023'),\n",
       " (924, '439,2409,6995,11860,15416,43748,45881'),\n",
       " (8942, '8939,8938,8941,8945,8946,8938,8940,8941,8943,8944'),\n",
       " (9990, '9987,9989,9993,9994,9988,35667,9991,9992,9988,9992'),\n",
       " (9992, '9987,9988,9989,9993,9994,35667,9990,9989,9990,9991'),\n",
       " (9019, '320,9018,9016,9017,9020,9021,9022,317,9023'),\n",
       " (9021, '9020,320,9016,9017,9018,9019,9022,317,9023'),\n",
       " (8941, '8938,8946,8939,8942,8943,8944,8945,8940,8942'),\n",
       " (9993, '9990,9994,9987,9988,9989,9991,9992,35667,13134,13478')]"
      ]
     },
     "execution_count": 16,
     "metadata": {},
     "output_type": "execute_result"
    }
   ],
   "source": [
    "recommendations.filter(lambda x: x[0] in [924, 8941, 8942, 9019, 9020, 9021, 9022, 9990, 9992, 9993]).take(15)"
   ]
  }
 ],
 "metadata": {
  "kernelspec": {
   "display_name": "Python 3",
   "language": "python",
   "name": "python3"
  },
  "language_info": {
   "codemirror_mode": {
    "name": "ipython",
    "version": 3
   },
   "file_extension": ".py",
   "mimetype": "text/x-python",
   "name": "python",
   "nbconvert_exporter": "python",
   "pygments_lexer": "ipython3",
   "version": "3.6.8"
  }
 },
 "nbformat": 4,
 "nbformat_minor": 2
}
