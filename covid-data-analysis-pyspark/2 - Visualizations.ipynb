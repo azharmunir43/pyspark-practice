{
 "cells": [
  {
   "cell_type": "markdown",
   "metadata": {},
   "source": [
    "## Gohar Nissa Fatima\n",
    "**Assignment 1, Task 2**"
   ]
  },
  {
   "cell_type": "code",
   "execution_count": 1,
   "metadata": {},
   "outputs": [],
   "source": [
    "import findspark\n",
    "findspark.init()"
   ]
  },
  {
   "cell_type": "code",
   "execution_count": 2,
   "metadata": {},
   "outputs": [],
   "source": [
    "from pyspark.sql import SparkSession\n",
    "from pyspark.sql.functions import col, to_timestamp, to_date, countDistinct, udf, date_format, max as s_max, min as s_min\n",
    "from pyspark.sql.types import FloatType\n",
    "from scipy.spatial import distance"
   ]
  },
  {
   "cell_type": "code",
   "execution_count": 3,
   "metadata": {},
   "outputs": [],
   "source": [
    "from matplotlib import pyplot as plt"
   ]
  },
  {
   "cell_type": "code",
   "execution_count": 4,
   "metadata": {},
   "outputs": [],
   "source": [
    "import seaborn as sns"
   ]
  },
  {
   "cell_type": "code",
   "execution_count": 5,
   "metadata": {},
   "outputs": [],
   "source": [
    "import pandas as pd"
   ]
  },
  {
   "cell_type": "code",
   "execution_count": 6,
   "metadata": {},
   "outputs": [],
   "source": [
    "spark = SparkSession.builder.getOrCreate()"
   ]
  },
  {
   "cell_type": "code",
   "execution_count": 7,
   "metadata": {},
   "outputs": [],
   "source": [
    "df = spark.read.options(header=True, inferSchema=True).csv('raw\\covid.csv')"
   ]
  },
  {
   "cell_type": "markdown",
   "metadata": {},
   "source": [
    "#### Data Exploration"
   ]
  },
  {
   "cell_type": "code",
   "execution_count": 8,
   "metadata": {},
   "outputs": [
    {
     "name": "stdout",
     "output_type": "stream",
     "text": [
      "root\n",
      " |-- _c0: integer (nullable = true)\n",
      " |-- Date_Time: timestamp (nullable = true)\n",
      " |-- id: integer (nullable = true)\n",
      " |-- age: integer (nullable = true)\n",
      " |-- gender: integer (nullable = true)\n",
      " |-- infection_status: string (nullable = true)\n",
      " |-- days_since_infection: double (nullable = true)\n",
      " |-- date_of_infection: timestamp (nullable = true)\n",
      " |-- date_of_symptoms: timestamp (nullable = true)\n",
      " |-- date_of_recovery: timestamp (nullable = true)\n",
      " |-- date_of_death: timestamp (nullable = true)\n",
      " |-- date_hospital_check_in: timestamp (nullable = true)\n",
      " |-- date_hospital_check_out: timestamp (nullable = true)\n",
      " |-- residence_id: integer (nullable = true)\n",
      " |-- school_id: integer (nullable = true)\n",
      " |-- workplace_id: integer (nullable = true)\n",
      " |-- currentLocationID: integer (nullable = true)\n",
      " |-- currentLocationType: string (nullable = true)\n",
      " |-- lat: double (nullable = true)\n",
      " |-- lon: double (nullable = true)\n",
      " |-- zone_id: integer (nullable = true)\n",
      " |-- is_notified_to_isolate: integer (nullable = true)\n",
      " |-- is_symptomatic: integer (nullable = true)\n",
      " |-- incubation_period: double (nullable = true)\n",
      " |-- days_since_isolation: integer (nullable = true)\n",
      " |-- isolation_times: integer (nullable = true)\n",
      " |-- days_since_symptomatic: integer (nullable = true)\n",
      " |-- in_hospital: integer (nullable = true)\n",
      " |-- wears_mask: integer (nullable = true)\n",
      " |-- type_of_job: string (nullable = true)\n",
      " |-- morbidity: string (nullable = true)\n",
      " |-- exposure_time: double (nullable = true)\n",
      " |-- infected_from_user_id: integer (nullable = true)\n",
      " |-- transmitted_count: integer (nullable = true)\n",
      " |-- asymptomatic_transmission: integer (nullable = true)\n",
      " |-- locationID_of_infection: integer (nullable = true)\n",
      " |-- income: double (nullable = true)\n",
      " |-- household_size: integer (nullable = true)\n",
      " |-- bmi: integer (nullable = true)\n",
      " |-- date_of_test: timestamp (nullable = true)\n",
      " |-- test_result: integer (nullable = true)\n",
      " |-- Scenario: string (nullable = true)\n",
      "\n"
     ]
    }
   ],
   "source": [
    "df.printSchema()"
   ]
  },
  {
   "cell_type": "code",
   "execution_count": 9,
   "metadata": {},
   "outputs": [],
   "source": [
    "# create a date column\n",
    "df = df.withColumn(\"date\", to_date(col(\"Date_Time\"), \"yyyy-MM-dd\"))"
   ]
  },
  {
   "cell_type": "code",
   "execution_count": 10,
   "metadata": {},
   "outputs": [
    {
     "data": {
      "text/html": [
       "<div>\n",
       "<style scoped>\n",
       "    .dataframe tbody tr th:only-of-type {\n",
       "        vertical-align: middle;\n",
       "    }\n",
       "\n",
       "    .dataframe tbody tr th {\n",
       "        vertical-align: top;\n",
       "    }\n",
       "\n",
       "    .dataframe thead th {\n",
       "        text-align: right;\n",
       "    }\n",
       "</style>\n",
       "<table border=\"1\" class=\"dataframe\">\n",
       "  <thead>\n",
       "    <tr style=\"text-align: right;\">\n",
       "      <th></th>\n",
       "      <th>_c0</th>\n",
       "      <th>Date_Time</th>\n",
       "      <th>id</th>\n",
       "      <th>age</th>\n",
       "      <th>gender</th>\n",
       "      <th>infection_status</th>\n",
       "      <th>days_since_infection</th>\n",
       "      <th>date_of_infection</th>\n",
       "      <th>date_of_symptoms</th>\n",
       "      <th>date_of_recovery</th>\n",
       "      <th>...</th>\n",
       "      <th>transmitted_count</th>\n",
       "      <th>asymptomatic_transmission</th>\n",
       "      <th>locationID_of_infection</th>\n",
       "      <th>income</th>\n",
       "      <th>household_size</th>\n",
       "      <th>bmi</th>\n",
       "      <th>date_of_test</th>\n",
       "      <th>test_result</th>\n",
       "      <th>Scenario</th>\n",
       "      <th>date</th>\n",
       "    </tr>\n",
       "  </thead>\n",
       "  <tbody>\n",
       "    <tr>\n",
       "      <th>0</th>\n",
       "      <td>0</td>\n",
       "      <td>2020-01-01</td>\n",
       "      <td>32645</td>\n",
       "      <td>29</td>\n",
       "      <td>1</td>\n",
       "      <td>susceptible</td>\n",
       "      <td>0.0</td>\n",
       "      <td>None</td>\n",
       "      <td>None</td>\n",
       "      <td>None</td>\n",
       "      <td>...</td>\n",
       "      <td>0</td>\n",
       "      <td>-1</td>\n",
       "      <td>-1</td>\n",
       "      <td>5774.248719</td>\n",
       "      <td>6</td>\n",
       "      <td>25</td>\n",
       "      <td>None</td>\n",
       "      <td>-1</td>\n",
       "      <td>0000001_20200922055707</td>\n",
       "      <td>2020-01-01</td>\n",
       "    </tr>\n",
       "    <tr>\n",
       "      <th>1</th>\n",
       "      <td>1</td>\n",
       "      <td>2020-01-01</td>\n",
       "      <td>20022</td>\n",
       "      <td>30</td>\n",
       "      <td>1</td>\n",
       "      <td>susceptible</td>\n",
       "      <td>0.0</td>\n",
       "      <td>None</td>\n",
       "      <td>None</td>\n",
       "      <td>None</td>\n",
       "      <td>...</td>\n",
       "      <td>0</td>\n",
       "      <td>-1</td>\n",
       "      <td>-1</td>\n",
       "      <td>14384.879182</td>\n",
       "      <td>1</td>\n",
       "      <td>24</td>\n",
       "      <td>None</td>\n",
       "      <td>-1</td>\n",
       "      <td>0000001_20200922055707</td>\n",
       "      <td>2020-01-01</td>\n",
       "    </tr>\n",
       "    <tr>\n",
       "      <th>2</th>\n",
       "      <td>2</td>\n",
       "      <td>2020-01-01</td>\n",
       "      <td>18409</td>\n",
       "      <td>32</td>\n",
       "      <td>0</td>\n",
       "      <td>susceptible</td>\n",
       "      <td>0.0</td>\n",
       "      <td>None</td>\n",
       "      <td>None</td>\n",
       "      <td>None</td>\n",
       "      <td>...</td>\n",
       "      <td>0</td>\n",
       "      <td>-1</td>\n",
       "      <td>-1</td>\n",
       "      <td>9502.567895</td>\n",
       "      <td>4</td>\n",
       "      <td>24</td>\n",
       "      <td>None</td>\n",
       "      <td>-1</td>\n",
       "      <td>0000001_20200922055707</td>\n",
       "      <td>2020-01-01</td>\n",
       "    </tr>\n",
       "    <tr>\n",
       "      <th>3</th>\n",
       "      <td>3</td>\n",
       "      <td>2020-01-01</td>\n",
       "      <td>34113</td>\n",
       "      <td>29</td>\n",
       "      <td>1</td>\n",
       "      <td>susceptible</td>\n",
       "      <td>0.0</td>\n",
       "      <td>None</td>\n",
       "      <td>None</td>\n",
       "      <td>None</td>\n",
       "      <td>...</td>\n",
       "      <td>0</td>\n",
       "      <td>-1</td>\n",
       "      <td>-1</td>\n",
       "      <td>7029.974753</td>\n",
       "      <td>5</td>\n",
       "      <td>20</td>\n",
       "      <td>None</td>\n",
       "      <td>-1</td>\n",
       "      <td>0000001_20200922055707</td>\n",
       "      <td>2020-01-01</td>\n",
       "    </tr>\n",
       "    <tr>\n",
       "      <th>4</th>\n",
       "      <td>4</td>\n",
       "      <td>2020-01-01</td>\n",
       "      <td>40168</td>\n",
       "      <td>58</td>\n",
       "      <td>1</td>\n",
       "      <td>susceptible</td>\n",
       "      <td>0.0</td>\n",
       "      <td>None</td>\n",
       "      <td>None</td>\n",
       "      <td>None</td>\n",
       "      <td>...</td>\n",
       "      <td>0</td>\n",
       "      <td>-1</td>\n",
       "      <td>-1</td>\n",
       "      <td>12378.711455</td>\n",
       "      <td>2</td>\n",
       "      <td>31</td>\n",
       "      <td>None</td>\n",
       "      <td>-1</td>\n",
       "      <td>0000001_20200922055707</td>\n",
       "      <td>2020-01-01</td>\n",
       "    </tr>\n",
       "  </tbody>\n",
       "</table>\n",
       "<p>5 rows × 43 columns</p>\n",
       "</div>"
      ],
      "text/plain": [
       "   _c0  Date_Time     id  age  gender infection_status  days_since_infection  \\\n",
       "0    0 2020-01-01  32645   29       1      susceptible                   0.0   \n",
       "1    1 2020-01-01  20022   30       1      susceptible                   0.0   \n",
       "2    2 2020-01-01  18409   32       0      susceptible                   0.0   \n",
       "3    3 2020-01-01  34113   29       1      susceptible                   0.0   \n",
       "4    4 2020-01-01  40168   58       1      susceptible                   0.0   \n",
       "\n",
       "  date_of_infection date_of_symptoms date_of_recovery  ... transmitted_count  \\\n",
       "0              None             None             None  ...                 0   \n",
       "1              None             None             None  ...                 0   \n",
       "2              None             None             None  ...                 0   \n",
       "3              None             None             None  ...                 0   \n",
       "4              None             None             None  ...                 0   \n",
       "\n",
       "  asymptomatic_transmission locationID_of_infection        income  \\\n",
       "0                        -1                      -1   5774.248719   \n",
       "1                        -1                      -1  14384.879182   \n",
       "2                        -1                      -1   9502.567895   \n",
       "3                        -1                      -1   7029.974753   \n",
       "4                        -1                      -1  12378.711455   \n",
       "\n",
       "   household_size  bmi  date_of_test test_result                Scenario  \\\n",
       "0               6   25          None          -1  0000001_20200922055707   \n",
       "1               1   24          None          -1  0000001_20200922055707   \n",
       "2               4   24          None          -1  0000001_20200922055707   \n",
       "3               5   20          None          -1  0000001_20200922055707   \n",
       "4               2   31          None          -1  0000001_20200922055707   \n",
       "\n",
       "         date  \n",
       "0  2020-01-01  \n",
       "1  2020-01-01  \n",
       "2  2020-01-01  \n",
       "3  2020-01-01  \n",
       "4  2020-01-01  \n",
       "\n",
       "[5 rows x 43 columns]"
      ]
     },
     "execution_count": 10,
     "metadata": {},
     "output_type": "execute_result"
    }
   ],
   "source": [
    "# sneak-peak at data\n",
    "df.limit(5).toPandas()"
   ]
  },
  {
   "cell_type": "code",
   "execution_count": 11,
   "metadata": {},
   "outputs": [
    {
     "name": "stdout",
     "output_type": "stream",
     "text": [
      "(6800000, 43)\n"
     ]
    }
   ],
   "source": [
    "# size and cols\n",
    "print((df.count(), len(df.columns)))"
   ]
  },
  {
   "cell_type": "code",
   "execution_count": 12,
   "metadata": {},
   "outputs": [
    {
     "data": {
      "text/html": [
       "<div>\n",
       "<style scoped>\n",
       "    .dataframe tbody tr th:only-of-type {\n",
       "        vertical-align: middle;\n",
       "    }\n",
       "\n",
       "    .dataframe tbody tr th {\n",
       "        vertical-align: top;\n",
       "    }\n",
       "\n",
       "    .dataframe thead th {\n",
       "        text-align: right;\n",
       "    }\n",
       "</style>\n",
       "<table border=\"1\" class=\"dataframe\">\n",
       "  <thead>\n",
       "    <tr style=\"text-align: right;\">\n",
       "      <th></th>\n",
       "      <th>Date_Time</th>\n",
       "      <th>date</th>\n",
       "      <th>id</th>\n",
       "      <th>infection_status</th>\n",
       "    </tr>\n",
       "  </thead>\n",
       "  <tbody>\n",
       "    <tr>\n",
       "      <th>0</th>\n",
       "      <td>2020-01-01 00:00:00</td>\n",
       "      <td>2020-01-01</td>\n",
       "      <td>32645</td>\n",
       "      <td>susceptible</td>\n",
       "    </tr>\n",
       "    <tr>\n",
       "      <th>1</th>\n",
       "      <td>2020-01-01 08:00:00</td>\n",
       "      <td>2020-01-01</td>\n",
       "      <td>32645</td>\n",
       "      <td>susceptible</td>\n",
       "    </tr>\n",
       "    <tr>\n",
       "      <th>2</th>\n",
       "      <td>2020-01-01 16:00:00</td>\n",
       "      <td>2020-01-01</td>\n",
       "      <td>32645</td>\n",
       "      <td>susceptible</td>\n",
       "    </tr>\n",
       "    <tr>\n",
       "      <th>3</th>\n",
       "      <td>2020-01-01 19:00:00</td>\n",
       "      <td>2020-01-01</td>\n",
       "      <td>32645</td>\n",
       "      <td>susceptible</td>\n",
       "    </tr>\n",
       "    <tr>\n",
       "      <th>4</th>\n",
       "      <td>2020-01-01 22:00:00</td>\n",
       "      <td>2020-01-01</td>\n",
       "      <td>32645</td>\n",
       "      <td>susceptible</td>\n",
       "    </tr>\n",
       "    <tr>\n",
       "      <th>5</th>\n",
       "      <td>2020-01-02 00:00:00</td>\n",
       "      <td>2020-01-02</td>\n",
       "      <td>32645</td>\n",
       "      <td>susceptible</td>\n",
       "    </tr>\n",
       "    <tr>\n",
       "      <th>6</th>\n",
       "      <td>2020-01-02 08:00:00</td>\n",
       "      <td>2020-01-02</td>\n",
       "      <td>32645</td>\n",
       "      <td>susceptible</td>\n",
       "    </tr>\n",
       "    <tr>\n",
       "      <th>7</th>\n",
       "      <td>2020-01-02 16:00:00</td>\n",
       "      <td>2020-01-02</td>\n",
       "      <td>32645</td>\n",
       "      <td>susceptible</td>\n",
       "    </tr>\n",
       "    <tr>\n",
       "      <th>8</th>\n",
       "      <td>2020-01-02 19:00:00</td>\n",
       "      <td>2020-01-02</td>\n",
       "      <td>32645</td>\n",
       "      <td>susceptible</td>\n",
       "    </tr>\n",
       "    <tr>\n",
       "      <th>9</th>\n",
       "      <td>2020-01-02 22:00:00</td>\n",
       "      <td>2020-01-02</td>\n",
       "      <td>32645</td>\n",
       "      <td>susceptible</td>\n",
       "    </tr>\n",
       "    <tr>\n",
       "      <th>10</th>\n",
       "      <td>2020-01-03 00:00:00</td>\n",
       "      <td>2020-01-03</td>\n",
       "      <td>32645</td>\n",
       "      <td>susceptible</td>\n",
       "    </tr>\n",
       "    <tr>\n",
       "      <th>11</th>\n",
       "      <td>2020-01-03 08:00:00</td>\n",
       "      <td>2020-01-03</td>\n",
       "      <td>32645</td>\n",
       "      <td>susceptible</td>\n",
       "    </tr>\n",
       "    <tr>\n",
       "      <th>12</th>\n",
       "      <td>2020-01-03 16:00:00</td>\n",
       "      <td>2020-01-03</td>\n",
       "      <td>32645</td>\n",
       "      <td>susceptible</td>\n",
       "    </tr>\n",
       "    <tr>\n",
       "      <th>13</th>\n",
       "      <td>2020-01-03 19:00:00</td>\n",
       "      <td>2020-01-03</td>\n",
       "      <td>32645</td>\n",
       "      <td>susceptible</td>\n",
       "    </tr>\n",
       "    <tr>\n",
       "      <th>14</th>\n",
       "      <td>2020-01-03 22:00:00</td>\n",
       "      <td>2020-01-03</td>\n",
       "      <td>32645</td>\n",
       "      <td>susceptible</td>\n",
       "    </tr>\n",
       "  </tbody>\n",
       "</table>\n",
       "</div>"
      ],
      "text/plain": [
       "             Date_Time        date     id infection_status\n",
       "0  2020-01-01 00:00:00  2020-01-01  32645      susceptible\n",
       "1  2020-01-01 08:00:00  2020-01-01  32645      susceptible\n",
       "2  2020-01-01 16:00:00  2020-01-01  32645      susceptible\n",
       "3  2020-01-01 19:00:00  2020-01-01  32645      susceptible\n",
       "4  2020-01-01 22:00:00  2020-01-01  32645      susceptible\n",
       "5  2020-01-02 00:00:00  2020-01-02  32645      susceptible\n",
       "6  2020-01-02 08:00:00  2020-01-02  32645      susceptible\n",
       "7  2020-01-02 16:00:00  2020-01-02  32645      susceptible\n",
       "8  2020-01-02 19:00:00  2020-01-02  32645      susceptible\n",
       "9  2020-01-02 22:00:00  2020-01-02  32645      susceptible\n",
       "10 2020-01-03 00:00:00  2020-01-03  32645      susceptible\n",
       "11 2020-01-03 08:00:00  2020-01-03  32645      susceptible\n",
       "12 2020-01-03 16:00:00  2020-01-03  32645      susceptible\n",
       "13 2020-01-03 19:00:00  2020-01-03  32645      susceptible\n",
       "14 2020-01-03 22:00:00  2020-01-03  32645      susceptible"
      ]
     },
     "execution_count": 12,
     "metadata": {},
     "output_type": "execute_result"
    }
   ],
   "source": [
    "# a look into a user's data\n",
    "df.select(['Date_Time', 'date', 'id', 'infection_status']).where(col('id') == '32645').limit(15).toPandas()"
   ]
  },
  {
   "cell_type": "markdown",
   "metadata": {},
   "source": [
    "#### Q1: Plot the total number of infections, recoveries and deaths w.r.t date?"
   ]
  },
  {
   "cell_type": "code",
   "execution_count": 13,
   "metadata": {},
   "outputs": [],
   "source": [
    "# select subset of columns\n",
    "q1 = df.select(['id', 'date', 'infection_status']).dropDuplicates()"
   ]
  },
  {
   "cell_type": "code",
   "execution_count": 14,
   "metadata": {},
   "outputs": [],
   "source": [
    "# group by infection status\n",
    "q1_agg_pdf = q1.groupBy(['date', 'infection_status']).agg(countDistinct('id').alias('people')).toPandas()"
   ]
  },
  {
   "cell_type": "code",
   "execution_count": 15,
   "metadata": {},
   "outputs": [],
   "source": [
    "# susceptible is not needed\n",
    "q1_agg_pdf = q1_agg_pdf[q1_agg_pdf['infection_status'] != 'susceptible']"
   ]
  },
  {
   "cell_type": "code",
   "execution_count": 16,
   "metadata": {},
   "outputs": [],
   "source": [
    "# fix type\n",
    "q1_agg_pdf['date'] = q1_agg_pdf['date'].apply(pd.to_datetime)"
   ]
  },
  {
   "cell_type": "code",
   "execution_count": 17,
   "metadata": {},
   "outputs": [],
   "source": [
    "# sort\n",
    "q1_agg_pdf.sort_values('date', inplace=True)"
   ]
  },
  {
   "cell_type": "code",
   "execution_count": 18,
   "metadata": {},
   "outputs": [
    {
     "name": "stderr",
     "output_type": "stream",
     "text": [
      "d:\\workplace\\environments\\bigdata\\lib\\site-packages\\pandas\\plotting\\_converter.py:129: FutureWarning: Using an implicitly registered datetime converter for a matplotlib plotting method. The converter was registered by pandas on import. Future versions of pandas will require you to explicitly register matplotlib converters.\n",
      "\n",
      "To register the converters:\n",
      "\t>>> from pandas.plotting import register_matplotlib_converters\n",
      "\t>>> register_matplotlib_converters()\n",
      "  warnings.warn(msg, FutureWarning)\n"
     ]
    },
    {
     "data": {
      "text/plain": [
       "(array([737425., 737446., 737456., 737477., 737485., 737506., 737516.,\n",
       "        737537., 737546.]), <a list of 9 Text xticklabel objects>)"
      ]
     },
     "execution_count": 18,
     "metadata": {},
     "output_type": "execute_result"
    },
    {
     "data": {
      "image/png": "[encoded data removed]",
      "text/plain": [
       "<Figure size 864x432 with 1 Axes>"
      ]
     },
     "metadata": {
      "needs_background": "light"
     },
     "output_type": "display_data"
    }
   ],
   "source": [
    "# visualize\n",
    "\n",
    "plt.figure(figsize=(12,6))\n",
    "ax = sns.lineplot(x=\"date\", y=\"people\", hue=\"infection_status\", data=q1_agg_pdf)\n",
    "plt.xticks(rotation=45)"
   ]
  },
  {
   "cell_type": "markdown",
   "metadata": {},
   "source": [
    "#### Q2: Plot a pie chart for the ratio of asymptomatic and symptomatic infections"
   ]
  },
  {
   "cell_type": "code",
   "execution_count": 19,
   "metadata": {},
   "outputs": [],
   "source": [
    "# filter for infections\n",
    "\n",
    "infections = df.select(['id', 'is_symptomatic', 'infection_status']).where(col('infection_status') == 'infected')"
   ]
  },
  {
   "cell_type": "code",
   "execution_count": 20,
   "metadata": {},
   "outputs": [],
   "source": [
    "# aggregate\n",
    "is_symptomatic = infections.groupBy('is_symptomatic').agg(countDistinct('id').alias('people')).toPandas()"
   ]
  },
  {
   "cell_type": "code",
   "execution_count": 21,
   "metadata": {},
   "outputs": [
    {
     "data": {
      "text/html": [
       "<div>\n",
       "<style scoped>\n",
       "    .dataframe tbody tr th:only-of-type {\n",
       "        vertical-align: middle;\n",
       "    }\n",
       "\n",
       "    .dataframe tbody tr th {\n",
       "        vertical-align: top;\n",
       "    }\n",
       "\n",
       "    .dataframe thead th {\n",
       "        text-align: right;\n",
       "    }\n",
       "</style>\n",
       "<table border=\"1\" class=\"dataframe\">\n",
       "  <thead>\n",
       "    <tr style=\"text-align: right;\">\n",
       "      <th></th>\n",
       "      <th>is_symptomatic</th>\n",
       "      <th>people</th>\n",
       "    </tr>\n",
       "  </thead>\n",
       "  <tbody>\n",
       "    <tr>\n",
       "      <th>0</th>\n",
       "      <td>1</td>\n",
       "      <td>2651</td>\n",
       "    </tr>\n",
       "    <tr>\n",
       "      <th>1</th>\n",
       "      <td>0</td>\n",
       "      <td>3854</td>\n",
       "    </tr>\n",
       "  </tbody>\n",
       "</table>\n",
       "</div>"
      ],
      "text/plain": [
       "   is_symptomatic  people\n",
       "0               1    2651\n",
       "1               0    3854"
      ]
     },
     "execution_count": 21,
     "metadata": {},
     "output_type": "execute_result"
    }
   ],
   "source": [
    "is_symptomatic"
   ]
  },
  {
   "cell_type": "code",
   "execution_count": 22,
   "metadata": {},
   "outputs": [
    {
     "data": {
      "image/png": "[encoded data removed]",
      "text/plain": [
       "<Figure size 864x432 with 1 Axes>"
      ]
     },
     "metadata": {},
     "output_type": "display_data"
    }
   ],
   "source": [
    "# visualize\n",
    "\n",
    "plt.figure(figsize=(12,6))\n",
    "ax = plt.pie(is_symptomatic['people'], \n",
    "             labels=['Symptomatic', 'Asymptomatic'], \n",
    "             explode=(0, 0.1), \n",
    "             autopct='%1.1f%%', \n",
    "             shadow=True, \n",
    "             startangle=90)"
   ]
  },
  {
   "cell_type": "code",
   "execution_count": null,
   "metadata": {},
   "outputs": [],
   "source": []
  },
  {
   "cell_type": "markdown",
   "metadata": {},
   "source": [
    "#### Q3: Plot the variation of proximity of individual (ID=37415) w.r.t date."
   ]
  },
  {
   "cell_type": "markdown",
   "metadata": {},
   "source": [
    "Assumptions\n",
    "\n",
    "* only date is to be considered while calculating proximity\n",
    "* questions is sort of pointed at knowing the variation of total number of people that a person was around at any location at any time of day "
   ]
  },
  {
   "cell_type": "code",
   "execution_count": 23,
   "metadata": {},
   "outputs": [],
   "source": [
    "user_id = 37415"
   ]
  },
  {
   "cell_type": "code",
   "execution_count": 24,
   "metadata": {},
   "outputs": [],
   "source": [
    "# filter for user data\n",
    "\n",
    "user_data = df.select(['id', 'date', 'currentLocationID', 'currentLocationType']).where(col('id') == user_id)"
   ]
  },
  {
   "cell_type": "code",
   "execution_count": 25,
   "metadata": {},
   "outputs": [],
   "source": [
    "# prepare table to join\n",
    "\n",
    "temp_df = df.select(['id', 'date', 'currentLocationID', 'currentLocationType'])"
   ]
  },
  {
   "cell_type": "code",
   "execution_count": 26,
   "metadata": {},
   "outputs": [],
   "source": [
    "# join with full data to pick all people who shared location with 37415 on a date at any time\n",
    "joined = user_data.alias('user').join(temp_df.alias('proximity'), on=['date', 'currentLocationID', 'currentLocationType'], how='inner')"
   ]
  },
  {
   "cell_type": "code",
   "execution_count": 27,
   "metadata": {},
   "outputs": [],
   "source": [
    "# take count, i.e. aggregate\n",
    "proximity_pdf = joined.groupBy(['user.date', 'user.currentLocationID', 'user.currentLocationType']).agg(countDistinct('proximity.id').alias('proximity')).toPandas()"
   ]
  },
  {
   "cell_type": "code",
   "execution_count": 28,
   "metadata": {},
   "outputs": [],
   "source": [
    "proximity_pdf.sort_values('date', inplace=True)"
   ]
  },
  {
   "cell_type": "code",
   "execution_count": 29,
   "metadata": {},
   "outputs": [
    {
     "data": {
      "text/html": [
       "<div>\n",
       "<style scoped>\n",
       "    .dataframe tbody tr th:only-of-type {\n",
       "        vertical-align: middle;\n",
       "    }\n",
       "\n",
       "    .dataframe tbody tr th {\n",
       "        vertical-align: top;\n",
       "    }\n",
       "\n",
       "    .dataframe thead th {\n",
       "        text-align: right;\n",
       "    }\n",
       "</style>\n",
       "<table border=\"1\" class=\"dataframe\">\n",
       "  <thead>\n",
       "    <tr style=\"text-align: right;\">\n",
       "      <th></th>\n",
       "      <th>date</th>\n",
       "      <th>currentLocationID</th>\n",
       "      <th>currentLocationType</th>\n",
       "      <th>proximity</th>\n",
       "    </tr>\n",
       "  </thead>\n",
       "  <tbody>\n",
       "    <tr>\n",
       "      <th>147</th>\n",
       "      <td>2020-01-01</td>\n",
       "      <td>3628</td>\n",
       "      <td>shopping_mall</td>\n",
       "      <td>100</td>\n",
       "    </tr>\n",
       "    <tr>\n",
       "      <th>232</th>\n",
       "      <td>2020-01-01</td>\n",
       "      <td>3000</td>\n",
       "      <td>residential</td>\n",
       "      <td>4</td>\n",
       "    </tr>\n",
       "    <tr>\n",
       "      <th>203</th>\n",
       "      <td>2020-01-01</td>\n",
       "      <td>3690</td>\n",
       "      <td>employment</td>\n",
       "      <td>5</td>\n",
       "    </tr>\n",
       "    <tr>\n",
       "      <th>237</th>\n",
       "      <td>2020-01-02</td>\n",
       "      <td>3690</td>\n",
       "      <td>employment</td>\n",
       "      <td>5</td>\n",
       "    </tr>\n",
       "    <tr>\n",
       "      <th>186</th>\n",
       "      <td>2020-01-02</td>\n",
       "      <td>4796</td>\n",
       "      <td>market</td>\n",
       "      <td>109</td>\n",
       "    </tr>\n",
       "  </tbody>\n",
       "</table>\n",
       "</div>"
      ],
      "text/plain": [
       "           date  currentLocationID currentLocationType  proximity\n",
       "147  2020-01-01               3628       shopping_mall        100\n",
       "232  2020-01-01               3000         residential          4\n",
       "203  2020-01-01               3690          employment          5\n",
       "237  2020-01-02               3690          employment          5\n",
       "186  2020-01-02               4796              market        109"
      ]
     },
     "execution_count": 29,
     "metadata": {},
     "output_type": "execute_result"
    }
   ],
   "source": [
    "proximity_pdf.head()"
   ]
  },
  {
   "cell_type": "code",
   "execution_count": 30,
   "metadata": {},
   "outputs": [
    {
     "data": {
      "text/plain": [
       "(359, 4)"
      ]
     },
     "execution_count": 30,
     "metadata": {},
     "output_type": "execute_result"
    }
   ],
   "source": [
    "proximity_pdf.shape"
   ]
  },
  {
   "cell_type": "code",
   "execution_count": 31,
   "metadata": {},
   "outputs": [],
   "source": [
    "# day-level calculation\n",
    "final_proximity = proximity_pdf.groupby('date')['proximity'].sum()"
   ]
  },
  {
   "cell_type": "code",
   "execution_count": 32,
   "metadata": {},
   "outputs": [
    {
     "data": {
      "text/plain": [
       "Text(0.5, 1.0, 'Proximity for 37415 w.r.t date')"
      ]
     },
     "execution_count": 32,
     "metadata": {},
     "output_type": "execute_result"
    },
    {
     "data": {
      "image/png": "[encoded data removed]",
      "text/plain": [
       "<Figure size 864x432 with 1 Axes>"
      ]
     },
     "metadata": {
      "needs_background": "light"
     },
     "output_type": "display_data"
    }
   ],
   "source": [
    "# visulize\n",
    "\n",
    "plt.figure(figsize=(12,6))\n",
    "ax = final_proximity.plot()\n",
    "plt.xticks(rotation=30)\n",
    "sns.despine()\n",
    "plt.title('Proximity for {} w.r.t date'.format(user_id))"
   ]
  },
  {
   "cell_type": "code",
   "execution_count": null,
   "metadata": {},
   "outputs": [],
   "source": []
  },
  {
   "cell_type": "markdown",
   "metadata": {},
   "source": [
    "#### Q4:  Plot bar graphs to show the mortality rates and infection rates per age groups (create age groups 0-10, 10-20, and so on)."
   ]
  },
  {
   "cell_type": "code",
   "execution_count": 33,
   "metadata": {},
   "outputs": [],
   "source": [
    "age = df.select(['id', 'age', 'infection_status'])"
   ]
  },
  {
   "cell_type": "markdown",
   "metadata": {},
   "source": [
    "_**Age**_"
   ]
  },
  {
   "cell_type": "code",
   "execution_count": 34,
   "metadata": {},
   "outputs": [],
   "source": [
    "# group by age and infection status\n",
    "age_pdf = age.groupBy(['age', 'infection_status']).agg(countDistinct('id').alias('people')).toPandas()"
   ]
  },
  {
   "cell_type": "code",
   "execution_count": 35,
   "metadata": {},
   "outputs": [],
   "source": [
    "# sort data just to make more sense\n",
    "age_pdf.sort_values(by='age', inplace=True)"
   ]
  },
  {
   "cell_type": "code",
   "execution_count": 36,
   "metadata": {},
   "outputs": [],
   "source": [
    "# pivot in order to compute mortality rate\n",
    "age_pdf = age_pdf.pivot(index='age', columns='infection_status', values='people')"
   ]
  },
  {
   "cell_type": "code",
   "execution_count": 37,
   "metadata": {},
   "outputs": [],
   "source": [
    "# fill blanks with 0, just to simplify\n",
    "age_pdf.fillna(0, inplace=True)\n",
    "age_pdf.reset_index(inplace=True)\n",
    "age_pdf.rename_axis(\"index\", axis=\"columns\", inplace=True)"
   ]
  },
  {
   "cell_type": "code",
   "execution_count": 38,
   "metadata": {},
   "outputs": [],
   "source": [
    "bins = [0, 10, 20, 30, 40, 50, 60, 70, 80, 90, 100]\n",
    "age_pdf['age_bin'] = pd.cut(age_pdf['age'], bins=bins)"
   ]
  },
  {
   "cell_type": "code",
   "execution_count": 39,
   "metadata": {},
   "outputs": [],
   "source": [
    "final = age_pdf.groupby('age_bin', as_index=False).agg({'susceptible':'sum', 'infected':'sum', 'deceased':'sum'})"
   ]
  },
  {
   "cell_type": "code",
   "execution_count": 40,
   "metadata": {},
   "outputs": [],
   "source": [
    "# claculate deceased ratio or mortality rate\n",
    "final['infection_rate'] = (final['infected'] / final['susceptible']) * 100"
   ]
  },
  {
   "cell_type": "code",
   "execution_count": 41,
   "metadata": {},
   "outputs": [],
   "source": [
    "# claculate deceased ratio or mortality rate\n",
    "final['mortality_rate'] = (final['deceased'] / final['susceptible']) * 100"
   ]
  },
  {
   "cell_type": "code",
   "execution_count": 42,
   "metadata": {},
   "outputs": [
    {
     "data": {
      "text/html": [
       "<div>\n",
       "<style scoped>\n",
       "    .dataframe tbody tr th:only-of-type {\n",
       "        vertical-align: middle;\n",
       "    }\n",
       "\n",
       "    .dataframe tbody tr th {\n",
       "        vertical-align: top;\n",
       "    }\n",
       "\n",
       "    .dataframe thead th {\n",
       "        text-align: right;\n",
       "    }\n",
       "</style>\n",
       "<table border=\"1\" class=\"dataframe\">\n",
       "  <thead>\n",
       "    <tr style=\"text-align: right;\">\n",
       "      <th></th>\n",
       "      <th>age_bin</th>\n",
       "      <th>susceptible</th>\n",
       "      <th>infected</th>\n",
       "      <th>deceased</th>\n",
       "      <th>infection_rate</th>\n",
       "      <th>mortality_rate</th>\n",
       "    </tr>\n",
       "  </thead>\n",
       "  <tbody>\n",
       "    <tr>\n",
       "      <th>0</th>\n",
       "      <td>(0, 10]</td>\n",
       "      <td>443.0</td>\n",
       "      <td>289.0</td>\n",
       "      <td>0.0</td>\n",
       "      <td>65.237020</td>\n",
       "      <td>0.000000</td>\n",
       "    </tr>\n",
       "    <tr>\n",
       "      <th>1</th>\n",
       "      <td>(10, 20]</td>\n",
       "      <td>936.0</td>\n",
       "      <td>619.0</td>\n",
       "      <td>0.0</td>\n",
       "      <td>66.132479</td>\n",
       "      <td>0.000000</td>\n",
       "    </tr>\n",
       "    <tr>\n",
       "      <th>2</th>\n",
       "      <td>(20, 30]</td>\n",
       "      <td>3558.0</td>\n",
       "      <td>1173.0</td>\n",
       "      <td>0.0</td>\n",
       "      <td>32.967960</td>\n",
       "      <td>0.000000</td>\n",
       "    </tr>\n",
       "    <tr>\n",
       "      <th>3</th>\n",
       "      <td>(30, 40]</td>\n",
       "      <td>2453.0</td>\n",
       "      <td>910.0</td>\n",
       "      <td>55.0</td>\n",
       "      <td>37.097432</td>\n",
       "      <td>2.242152</td>\n",
       "    </tr>\n",
       "    <tr>\n",
       "      <th>4</th>\n",
       "      <td>(40, 50]</td>\n",
       "      <td>1235.0</td>\n",
       "      <td>485.0</td>\n",
       "      <td>53.0</td>\n",
       "      <td>39.271255</td>\n",
       "      <td>4.291498</td>\n",
       "    </tr>\n",
       "  </tbody>\n",
       "</table>\n",
       "</div>"
      ],
      "text/plain": [
       "    age_bin  susceptible  infected  deceased  infection_rate  mortality_rate\n",
       "0   (0, 10]        443.0     289.0       0.0       65.237020        0.000000\n",
       "1  (10, 20]        936.0     619.0       0.0       66.132479        0.000000\n",
       "2  (20, 30]       3558.0    1173.0       0.0       32.967960        0.000000\n",
       "3  (30, 40]       2453.0     910.0      55.0       37.097432        2.242152\n",
       "4  (40, 50]       1235.0     485.0      53.0       39.271255        4.291498"
      ]
     },
     "execution_count": 42,
     "metadata": {},
     "output_type": "execute_result"
    }
   ],
   "source": [
    "final.head()"
   ]
  },
  {
   "cell_type": "code",
   "execution_count": 43,
   "metadata": {
    "scrolled": false
   },
   "outputs": [
    {
     "data": {
      "text/plain": [
       "Text(0.5, 1.0, 'Infection Rate w.r.t Age group')"
      ]
     },
     "execution_count": 43,
     "metadata": {},
     "output_type": "execute_result"
    },
    {
     "data": {
      "image/png": "[encoded data removed]",
      "text/plain": [
       "<Figure size 864x432 with 1 Axes>"
      ]
     },
     "metadata": {
      "needs_background": "light"
     },
     "output_type": "display_data"
    }
   ],
   "source": [
    "# visualize to check variation\n",
    "plt.figure(figsize=(12,6))\n",
    "ax = sns.barplot(x=\"age_bin\", y=\"infection_rate\", data=final)\n",
    "plt.xticks(rotation=45)\n",
    "sns.despine()\n",
    "plt.title('Infection Rate w.r.t Age group')"
   ]
  },
  {
   "cell_type": "code",
   "execution_count": 44,
   "metadata": {},
   "outputs": [
    {
     "data": {
      "text/plain": [
       "Text(0.5, 1.0, 'Mortality Rate w.r.t Age group')"
      ]
     },
     "execution_count": 44,
     "metadata": {},
     "output_type": "execute_result"
    },
    {
     "data": {
      "image/png": "[encoded data removed]",
      "text/plain": [
       "<Figure size 864x432 with 1 Axes>"
      ]
     },
     "metadata": {
      "needs_background": "light"
     },
     "output_type": "display_data"
    }
   ],
   "source": [
    "# visualize to check variation\n",
    "plt.figure(figsize=(12,6))\n",
    "ax = sns.barplot(x=\"age_bin\", y=\"mortality_rate\", data=final)\n",
    "plt.xticks(rotation=45)\n",
    "sns.despine()\n",
    "plt.title('Mortality Rate w.r.t Age group')"
   ]
  },
  {
   "cell_type": "markdown",
   "metadata": {},
   "source": [
    "#### Q5: Visualize the number of individuals at a location on a geographical map. (COMPLEX: Can be done with Tableau, Plotly)"
   ]
  },
  {
   "cell_type": "markdown",
   "metadata": {},
   "source": [
    "Idea is to aggegate data using spark and then use Power BI to visualize\n",
    "\n",
    "Assumption: Better way will be to have date/time wise geographical distribution of people, so considering datetime"
   ]
  },
  {
   "cell_type": "code",
   "execution_count": 45,
   "metadata": {},
   "outputs": [],
   "source": [
    "geographical_counts = df.select(['Date_Time', 'lon', 'lat', 'id']).groupBy(['Date_Time', 'lon', 'lat']).agg(countDistinct('id').alias('people')).toPandas()"
   ]
  },
  {
   "cell_type": "code",
   "execution_count": 46,
   "metadata": {},
   "outputs": [],
   "source": [
    "geographical_counts.to_csv('geographical_counts.csv', index=False)"
   ]
  },
  {
   "cell_type": "code",
   "execution_count": 47,
   "metadata": {},
   "outputs": [
    {
     "data": {
      "text/plain": [
       "(2059292, 4)"
      ]
     },
     "execution_count": 47,
     "metadata": {},
     "output_type": "execute_result"
    }
   ],
   "source": [
    "geographical_counts.shape"
   ]
  },
  {
   "cell_type": "markdown",
   "metadata": {},
   "source": [
    "<img src='Capture.png'>"
   ]
  },
  {
   "cell_type": "code",
   "execution_count": null,
   "metadata": {},
   "outputs": [],
   "source": []
  }
 ],
 "metadata": {
  "kernelspec": {
   "display_name": "Python 3",
   "language": "python",
   "name": "python3"
  },
  "language_info": {
   "codemirror_mode": {
    "name": "ipython",
    "version": 3
   },
   "file_extension": ".py",
   "mimetype": "text/x-python",
   "name": "python",
   "nbconvert_exporter": "python",
   "pygments_lexer": "ipython3",
   "version": "3.6.8"
  }
 },
 "nbformat": 4,
 "nbformat_minor": 2
}
