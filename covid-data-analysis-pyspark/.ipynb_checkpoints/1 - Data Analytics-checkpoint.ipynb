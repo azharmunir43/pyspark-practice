{
 "cells": [
  {
   "cell_type": "code",
   "execution_count": 1,
   "metadata": {},
   "outputs": [],
   "source": [
    "import findspark\n",
    "findspark.init()"
   ]
  },
  {
   "cell_type": "code",
   "execution_count": 2,
   "metadata": {},
   "outputs": [],
   "source": [
    "from pyspark.sql import SparkSession\n",
    "from pyspark.sql.functions import col, to_timestamp, to_date, countDistinct, udf, date_format, max as s_max, min as s_min\n",
    "from pyspark.sql.types import FloatType\n",
    "from scipy.spatial import distance"
   ]
  },
  {
   "cell_type": "code",
   "execution_count": 3,
   "metadata": {},
   "outputs": [],
   "source": [
    "from matplotlib import pyplot as plt"
   ]
  },
  {
   "cell_type": "code",
   "execution_count": 4,
   "metadata": {},
   "outputs": [],
   "source": [
    "spark = SparkSession.builder.getOrCreate()"
   ]
  },
  {
   "cell_type": "code",
   "execution_count": 5,
   "metadata": {},
   "outputs": [],
   "source": [
    "df = spark.read.options(header=True, inferSchema=True).csv('raw\\covid.csv')"
   ]
  },
  {
   "cell_type": "markdown",
   "metadata": {},
   "source": [
    "#### Data Exploration"
   ]
  },
  {
   "cell_type": "code",
   "execution_count": 6,
   "metadata": {},
   "outputs": [
    {
     "name": "stdout",
     "output_type": "stream",
     "text": [
      "root\n",
      " |-- _c0: integer (nullable = true)\n",
      " |-- Date_Time: timestamp (nullable = true)\n",
      " |-- id: integer (nullable = true)\n",
      " |-- age: integer (nullable = true)\n",
      " |-- gender: integer (nullable = true)\n",
      " |-- infection_status: string (nullable = true)\n",
      " |-- days_since_infection: double (nullable = true)\n",
      " |-- date_of_infection: timestamp (nullable = true)\n",
      " |-- date_of_symptoms: timestamp (nullable = true)\n",
      " |-- date_of_recovery: timestamp (nullable = true)\n",
      " |-- date_of_death: timestamp (nullable = true)\n",
      " |-- date_hospital_check_in: timestamp (nullable = true)\n",
      " |-- date_hospital_check_out: timestamp (nullable = true)\n",
      " |-- residence_id: integer (nullable = true)\n",
      " |-- school_id: integer (nullable = true)\n",
      " |-- workplace_id: integer (nullable = true)\n",
      " |-- currentLocationID: integer (nullable = true)\n",
      " |-- currentLocationType: string (nullable = true)\n",
      " |-- lat: double (nullable = true)\n",
      " |-- lon: double (nullable = true)\n",
      " |-- zone_id: integer (nullable = true)\n",
      " |-- is_notified_to_isolate: integer (nullable = true)\n",
      " |-- is_symptomatic: integer (nullable = true)\n",
      " |-- incubation_period: double (nullable = true)\n",
      " |-- days_since_isolation: integer (nullable = true)\n",
      " |-- isolation_times: integer (nullable = true)\n",
      " |-- days_since_symptomatic: integer (nullable = true)\n",
      " |-- in_hospital: integer (nullable = true)\n",
      " |-- wears_mask: integer (nullable = true)\n",
      " |-- type_of_job: string (nullable = true)\n",
      " |-- morbidity: string (nullable = true)\n",
      " |-- exposure_time: double (nullable = true)\n",
      " |-- infected_from_user_id: integer (nullable = true)\n",
      " |-- transmitted_count: integer (nullable = true)\n",
      " |-- asymptomatic_transmission: integer (nullable = true)\n",
      " |-- locationID_of_infection: integer (nullable = true)\n",
      " |-- income: double (nullable = true)\n",
      " |-- household_size: integer (nullable = true)\n",
      " |-- bmi: integer (nullable = true)\n",
      " |-- date_of_test: timestamp (nullable = true)\n",
      " |-- test_result: integer (nullable = true)\n",
      " |-- Scenario: string (nullable = true)\n",
      "\n"
     ]
    }
   ],
   "source": [
    "df.printSchema()"
   ]
  },
  {
   "cell_type": "code",
   "execution_count": 7,
   "metadata": {},
   "outputs": [],
   "source": [
    "# create a date column\n",
    "df = df.withColumn(\"date\", to_date(col(\"Date_Time\"), \"yyyy-MM-dd\"))"
   ]
  },
  {
   "cell_type": "code",
   "execution_count": 8,
   "metadata": {},
   "outputs": [
    {
     "data": {
      "text/html": [
       "<div>\n",
       "<style scoped>\n",
       "    .dataframe tbody tr th:only-of-type {\n",
       "        vertical-align: middle;\n",
       "    }\n",
       "\n",
       "    .dataframe tbody tr th {\n",
       "        vertical-align: top;\n",
       "    }\n",
       "\n",
       "    .dataframe thead th {\n",
       "        text-align: right;\n",
       "    }\n",
       "</style>\n",
       "<table border=\"1\" class=\"dataframe\">\n",
       "  <thead>\n",
       "    <tr style=\"text-align: right;\">\n",
       "      <th></th>\n",
       "      <th>_c0</th>\n",
       "      <th>Date_Time</th>\n",
       "      <th>id</th>\n",
       "      <th>age</th>\n",
       "      <th>gender</th>\n",
       "      <th>infection_status</th>\n",
       "      <th>days_since_infection</th>\n",
       "      <th>date_of_infection</th>\n",
       "      <th>date_of_symptoms</th>\n",
       "      <th>date_of_recovery</th>\n",
       "      <th>...</th>\n",
       "      <th>transmitted_count</th>\n",
       "      <th>asymptomatic_transmission</th>\n",
       "      <th>locationID_of_infection</th>\n",
       "      <th>income</th>\n",
       "      <th>household_size</th>\n",
       "      <th>bmi</th>\n",
       "      <th>date_of_test</th>\n",
       "      <th>test_result</th>\n",
       "      <th>Scenario</th>\n",
       "      <th>date</th>\n",
       "    </tr>\n",
       "  </thead>\n",
       "  <tbody>\n",
       "    <tr>\n",
       "      <th>0</th>\n",
       "      <td>0</td>\n",
       "      <td>2020-01-01</td>\n",
       "      <td>32645</td>\n",
       "      <td>29</td>\n",
       "      <td>1</td>\n",
       "      <td>susceptible</td>\n",
       "      <td>0.0</td>\n",
       "      <td>None</td>\n",
       "      <td>None</td>\n",
       "      <td>None</td>\n",
       "      <td>...</td>\n",
       "      <td>0</td>\n",
       "      <td>-1</td>\n",
       "      <td>-1</td>\n",
       "      <td>5774.248719</td>\n",
       "      <td>6</td>\n",
       "      <td>25</td>\n",
       "      <td>None</td>\n",
       "      <td>-1</td>\n",
       "      <td>0000001_20200922055707</td>\n",
       "      <td>2020-01-01</td>\n",
       "    </tr>\n",
       "    <tr>\n",
       "      <th>1</th>\n",
       "      <td>1</td>\n",
       "      <td>2020-01-01</td>\n",
       "      <td>20022</td>\n",
       "      <td>30</td>\n",
       "      <td>1</td>\n",
       "      <td>susceptible</td>\n",
       "      <td>0.0</td>\n",
       "      <td>None</td>\n",
       "      <td>None</td>\n",
       "      <td>None</td>\n",
       "      <td>...</td>\n",
       "      <td>0</td>\n",
       "      <td>-1</td>\n",
       "      <td>-1</td>\n",
       "      <td>14384.879182</td>\n",
       "      <td>1</td>\n",
       "      <td>24</td>\n",
       "      <td>None</td>\n",
       "      <td>-1</td>\n",
       "      <td>0000001_20200922055707</td>\n",
       "      <td>2020-01-01</td>\n",
       "    </tr>\n",
       "    <tr>\n",
       "      <th>2</th>\n",
       "      <td>2</td>\n",
       "      <td>2020-01-01</td>\n",
       "      <td>18409</td>\n",
       "      <td>32</td>\n",
       "      <td>0</td>\n",
       "      <td>susceptible</td>\n",
       "      <td>0.0</td>\n",
       "      <td>None</td>\n",
       "      <td>None</td>\n",
       "      <td>None</td>\n",
       "      <td>...</td>\n",
       "      <td>0</td>\n",
       "      <td>-1</td>\n",
       "      <td>-1</td>\n",
       "      <td>9502.567895</td>\n",
       "      <td>4</td>\n",
       "      <td>24</td>\n",
       "      <td>None</td>\n",
       "      <td>-1</td>\n",
       "      <td>0000001_20200922055707</td>\n",
       "      <td>2020-01-01</td>\n",
       "    </tr>\n",
       "    <tr>\n",
       "      <th>3</th>\n",
       "      <td>3</td>\n",
       "      <td>2020-01-01</td>\n",
       "      <td>34113</td>\n",
       "      <td>29</td>\n",
       "      <td>1</td>\n",
       "      <td>susceptible</td>\n",
       "      <td>0.0</td>\n",
       "      <td>None</td>\n",
       "      <td>None</td>\n",
       "      <td>None</td>\n",
       "      <td>...</td>\n",
       "      <td>0</td>\n",
       "      <td>-1</td>\n",
       "      <td>-1</td>\n",
       "      <td>7029.974753</td>\n",
       "      <td>5</td>\n",
       "      <td>20</td>\n",
       "      <td>None</td>\n",
       "      <td>-1</td>\n",
       "      <td>0000001_20200922055707</td>\n",
       "      <td>2020-01-01</td>\n",
       "    </tr>\n",
       "    <tr>\n",
       "      <th>4</th>\n",
       "      <td>4</td>\n",
       "      <td>2020-01-01</td>\n",
       "      <td>40168</td>\n",
       "      <td>58</td>\n",
       "      <td>1</td>\n",
       "      <td>susceptible</td>\n",
       "      <td>0.0</td>\n",
       "      <td>None</td>\n",
       "      <td>None</td>\n",
       "      <td>None</td>\n",
       "      <td>...</td>\n",
       "      <td>0</td>\n",
       "      <td>-1</td>\n",
       "      <td>-1</td>\n",
       "      <td>12378.711455</td>\n",
       "      <td>2</td>\n",
       "      <td>31</td>\n",
       "      <td>None</td>\n",
       "      <td>-1</td>\n",
       "      <td>0000001_20200922055707</td>\n",
       "      <td>2020-01-01</td>\n",
       "    </tr>\n",
       "  </tbody>\n",
       "</table>\n",
       "<p>5 rows × 43 columns</p>\n",
       "</div>"
      ],
      "text/plain": [
       "   _c0  Date_Time     id  age  gender infection_status  days_since_infection  \\\n",
       "0    0 2020-01-01  32645   29       1      susceptible                   0.0   \n",
       "1    1 2020-01-01  20022   30       1      susceptible                   0.0   \n",
       "2    2 2020-01-01  18409   32       0      susceptible                   0.0   \n",
       "3    3 2020-01-01  34113   29       1      susceptible                   0.0   \n",
       "4    4 2020-01-01  40168   58       1      susceptible                   0.0   \n",
       "\n",
       "  date_of_infection date_of_symptoms date_of_recovery  ... transmitted_count  \\\n",
       "0              None             None             None  ...                 0   \n",
       "1              None             None             None  ...                 0   \n",
       "2              None             None             None  ...                 0   \n",
       "3              None             None             None  ...                 0   \n",
       "4              None             None             None  ...                 0   \n",
       "\n",
       "  asymptomatic_transmission locationID_of_infection        income  \\\n",
       "0                        -1                      -1   5774.248719   \n",
       "1                        -1                      -1  14384.879182   \n",
       "2                        -1                      -1   9502.567895   \n",
       "3                        -1                      -1   7029.974753   \n",
       "4                        -1                      -1  12378.711455   \n",
       "\n",
       "   household_size  bmi  date_of_test test_result                Scenario  \\\n",
       "0               6   25          None          -1  0000001_20200922055707   \n",
       "1               1   24          None          -1  0000001_20200922055707   \n",
       "2               4   24          None          -1  0000001_20200922055707   \n",
       "3               5   20          None          -1  0000001_20200922055707   \n",
       "4               2   31          None          -1  0000001_20200922055707   \n",
       "\n",
       "         date  \n",
       "0  2020-01-01  \n",
       "1  2020-01-01  \n",
       "2  2020-01-01  \n",
       "3  2020-01-01  \n",
       "4  2020-01-01  \n",
       "\n",
       "[5 rows x 43 columns]"
      ]
     },
     "execution_count": 8,
     "metadata": {},
     "output_type": "execute_result"
    }
   ],
   "source": [
    "# sneak-peak at data\n",
    "df.limit(5).toPandas()"
   ]
  },
  {
   "cell_type": "code",
   "execution_count": 9,
   "metadata": {},
   "outputs": [
    {
     "name": "stdout",
     "output_type": "stream",
     "text": [
      "(6800000, 43)\n"
     ]
    }
   ],
   "source": [
    "# size and cols\n",
    "print((df.count(), len(df.columns)))"
   ]
  },
  {
   "cell_type": "code",
   "execution_count": 10,
   "metadata": {},
   "outputs": [
    {
     "data": {
      "text/html": [
       "<div>\n",
       "<style scoped>\n",
       "    .dataframe tbody tr th:only-of-type {\n",
       "        vertical-align: middle;\n",
       "    }\n",
       "\n",
       "    .dataframe tbody tr th {\n",
       "        vertical-align: top;\n",
       "    }\n",
       "\n",
       "    .dataframe thead th {\n",
       "        text-align: right;\n",
       "    }\n",
       "</style>\n",
       "<table border=\"1\" class=\"dataframe\">\n",
       "  <thead>\n",
       "    <tr style=\"text-align: right;\">\n",
       "      <th></th>\n",
       "      <th>Date_Time</th>\n",
       "      <th>date</th>\n",
       "      <th>id</th>\n",
       "      <th>infection_status</th>\n",
       "    </tr>\n",
       "  </thead>\n",
       "  <tbody>\n",
       "    <tr>\n",
       "      <th>0</th>\n",
       "      <td>2020-01-01 00:00:00</td>\n",
       "      <td>2020-01-01</td>\n",
       "      <td>32645</td>\n",
       "      <td>susceptible</td>\n",
       "    </tr>\n",
       "    <tr>\n",
       "      <th>1</th>\n",
       "      <td>2020-01-01 08:00:00</td>\n",
       "      <td>2020-01-01</td>\n",
       "      <td>32645</td>\n",
       "      <td>susceptible</td>\n",
       "    </tr>\n",
       "    <tr>\n",
       "      <th>2</th>\n",
       "      <td>2020-01-01 16:00:00</td>\n",
       "      <td>2020-01-01</td>\n",
       "      <td>32645</td>\n",
       "      <td>susceptible</td>\n",
       "    </tr>\n",
       "    <tr>\n",
       "      <th>3</th>\n",
       "      <td>2020-01-01 19:00:00</td>\n",
       "      <td>2020-01-01</td>\n",
       "      <td>32645</td>\n",
       "      <td>susceptible</td>\n",
       "    </tr>\n",
       "    <tr>\n",
       "      <th>4</th>\n",
       "      <td>2020-01-01 22:00:00</td>\n",
       "      <td>2020-01-01</td>\n",
       "      <td>32645</td>\n",
       "      <td>susceptible</td>\n",
       "    </tr>\n",
       "    <tr>\n",
       "      <th>5</th>\n",
       "      <td>2020-01-02 00:00:00</td>\n",
       "      <td>2020-01-02</td>\n",
       "      <td>32645</td>\n",
       "      <td>susceptible</td>\n",
       "    </tr>\n",
       "    <tr>\n",
       "      <th>6</th>\n",
       "      <td>2020-01-02 08:00:00</td>\n",
       "      <td>2020-01-02</td>\n",
       "      <td>32645</td>\n",
       "      <td>susceptible</td>\n",
       "    </tr>\n",
       "    <tr>\n",
       "      <th>7</th>\n",
       "      <td>2020-01-02 16:00:00</td>\n",
       "      <td>2020-01-02</td>\n",
       "      <td>32645</td>\n",
       "      <td>susceptible</td>\n",
       "    </tr>\n",
       "    <tr>\n",
       "      <th>8</th>\n",
       "      <td>2020-01-02 19:00:00</td>\n",
       "      <td>2020-01-02</td>\n",
       "      <td>32645</td>\n",
       "      <td>susceptible</td>\n",
       "    </tr>\n",
       "    <tr>\n",
       "      <th>9</th>\n",
       "      <td>2020-01-02 22:00:00</td>\n",
       "      <td>2020-01-02</td>\n",
       "      <td>32645</td>\n",
       "      <td>susceptible</td>\n",
       "    </tr>\n",
       "    <tr>\n",
       "      <th>10</th>\n",
       "      <td>2020-01-03 00:00:00</td>\n",
       "      <td>2020-01-03</td>\n",
       "      <td>32645</td>\n",
       "      <td>susceptible</td>\n",
       "    </tr>\n",
       "    <tr>\n",
       "      <th>11</th>\n",
       "      <td>2020-01-03 08:00:00</td>\n",
       "      <td>2020-01-03</td>\n",
       "      <td>32645</td>\n",
       "      <td>susceptible</td>\n",
       "    </tr>\n",
       "    <tr>\n",
       "      <th>12</th>\n",
       "      <td>2020-01-03 16:00:00</td>\n",
       "      <td>2020-01-03</td>\n",
       "      <td>32645</td>\n",
       "      <td>susceptible</td>\n",
       "    </tr>\n",
       "    <tr>\n",
       "      <th>13</th>\n",
       "      <td>2020-01-03 19:00:00</td>\n",
       "      <td>2020-01-03</td>\n",
       "      <td>32645</td>\n",
       "      <td>susceptible</td>\n",
       "    </tr>\n",
       "    <tr>\n",
       "      <th>14</th>\n",
       "      <td>2020-01-03 22:00:00</td>\n",
       "      <td>2020-01-03</td>\n",
       "      <td>32645</td>\n",
       "      <td>susceptible</td>\n",
       "    </tr>\n",
       "  </tbody>\n",
       "</table>\n",
       "</div>"
      ],
      "text/plain": [
       "             Date_Time        date     id infection_status\n",
       "0  2020-01-01 00:00:00  2020-01-01  32645      susceptible\n",
       "1  2020-01-01 08:00:00  2020-01-01  32645      susceptible\n",
       "2  2020-01-01 16:00:00  2020-01-01  32645      susceptible\n",
       "3  2020-01-01 19:00:00  2020-01-01  32645      susceptible\n",
       "4  2020-01-01 22:00:00  2020-01-01  32645      susceptible\n",
       "5  2020-01-02 00:00:00  2020-01-02  32645      susceptible\n",
       "6  2020-01-02 08:00:00  2020-01-02  32645      susceptible\n",
       "7  2020-01-02 16:00:00  2020-01-02  32645      susceptible\n",
       "8  2020-01-02 19:00:00  2020-01-02  32645      susceptible\n",
       "9  2020-01-02 22:00:00  2020-01-02  32645      susceptible\n",
       "10 2020-01-03 00:00:00  2020-01-03  32645      susceptible\n",
       "11 2020-01-03 08:00:00  2020-01-03  32645      susceptible\n",
       "12 2020-01-03 16:00:00  2020-01-03  32645      susceptible\n",
       "13 2020-01-03 19:00:00  2020-01-03  32645      susceptible\n",
       "14 2020-01-03 22:00:00  2020-01-03  32645      susceptible"
      ]
     },
     "execution_count": 10,
     "metadata": {},
     "output_type": "execute_result"
    }
   ],
   "source": [
    "# a look into a user's data\n",
    "df.select(['Date_Time', 'date', 'id', 'infection_status']).where(col('id') == '32645').limit(15).toPandas()"
   ]
  },
  {
   "cell_type": "markdown",
   "metadata": {},
   "source": [
    "#### Q1: How many active cases(infected individuals)were there on 2020-03-01(01 March 2020)?"
   ]
  },
  {
   "cell_type": "markdown",
   "metadata": {},
   "source": [
    "_We just have to filter out the said date and see how many unique ids were there with infection status of 'infected'_"
   ]
  },
  {
   "cell_type": "code",
   "execution_count": 11,
   "metadata": {},
   "outputs": [],
   "source": [
    "df_1st_march_infected = df.select(['date', 'id', 'infection_status']).where((col('date') == '2020-03-01') & (col('infection_status') == 'infected'))"
   ]
  },
  {
   "cell_type": "code",
   "execution_count": 12,
   "metadata": {},
   "outputs": [
    {
     "name": "stdout",
     "output_type": "stream",
     "text": [
      "+------------------+\n",
      "|count(DISTINCT id)|\n",
      "+------------------+\n",
      "|              1031|\n",
      "+------------------+\n",
      "\n"
     ]
    }
   ],
   "source": [
    "df_1st_march_infected.agg(countDistinct('id')).show()"
   ]
  },
  {
   "cell_type": "markdown",
   "metadata": {},
   "source": [
    "#### Q2: How many people died on 2020-03-01 (01 March 2020)?"
   ]
  },
  {
   "cell_type": "markdown",
   "metadata": {},
   "source": [
    "_We just have to filter out the said date and see how many unique ids were there with infection status of 'deceased'_"
   ]
  },
  {
   "cell_type": "code",
   "execution_count": 13,
   "metadata": {},
   "outputs": [],
   "source": [
    "df_1st_march_deceased = df.select(['id']).where((col('date') == '2020-03-01') & (col('infection_status') == 'deceased'))"
   ]
  },
  {
   "cell_type": "code",
   "execution_count": 14,
   "metadata": {},
   "outputs": [
    {
     "name": "stdout",
     "output_type": "stream",
     "text": [
      "+------------------+\n",
      "|count(DISTINCT id)|\n",
      "+------------------+\n",
      "|                49|\n",
      "+------------------+\n",
      "\n"
     ]
    }
   ],
   "source": [
    "df_1st_march_deceased.select(countDistinct('id')).show()"
   ]
  },
  {
   "cell_type": "markdown",
   "metadata": {},
   "source": [
    "#### Q3: What is the total number of infections, recoveries and deaths?"
   ]
  },
  {
   "cell_type": "markdown",
   "metadata": {},
   "source": [
    "Group by infection status and take distinct count of id"
   ]
  },
  {
   "cell_type": "code",
   "execution_count": 15,
   "metadata": {},
   "outputs": [],
   "source": [
    "df.select(['id', 'infection_status']).createOrReplaceTempView('Q3')"
   ]
  },
  {
   "cell_type": "code",
   "execution_count": 16,
   "metadata": {},
   "outputs": [
    {
     "name": "stdout",
     "output_type": "stream",
     "text": [
      "+----------------+------------------+\n",
      "|infection_status|count(DISTINCT id)|\n",
      "+----------------+------------------+\n",
      "|        infected|              3854|\n",
      "|       recovered|              3658|\n",
      "|        deceased|               215|\n",
      "+----------------+------------------+\n",
      "\n"
     ]
    }
   ],
   "source": [
    "spark.sql(\"SELECT infection_status, COUNT(DISTINCT id) FROM Q3 WHERE infection_status <> 'susceptible' GROUP BY infection_status\").show()"
   ]
  },
  {
   "cell_type": "markdown",
   "metadata": {},
   "source": [
    "#### Q4: How many unique individuals in the dataset?"
   ]
  },
  {
   "cell_type": "markdown",
   "metadata": {},
   "source": [
    "simple distinct count of id, I used the temp table created in above question"
   ]
  },
  {
   "cell_type": "code",
   "execution_count": 17,
   "metadata": {},
   "outputs": [
    {
     "name": "stdout",
     "output_type": "stream",
     "text": [
      "+------------------+\n",
      "|count(DISTINCT id)|\n",
      "+------------------+\n",
      "|             10000|\n",
      "+------------------+\n",
      "\n"
     ]
    }
   ],
   "source": [
    "spark.sql(\"SELECT COUNT(DISTINCT id) FROM Q3\").show()"
   ]
  },
  {
   "cell_type": "markdown",
   "metadata": {},
   "source": [
    "#### Q5: How many unique locations and their names in the dataset?"
   ]
  },
  {
   "cell_type": "markdown",
   "metadata": {},
   "source": [
    "* distinct count of currentLocationID\n",
    "* unique locations and names/type using dropDuplicates"
   ]
  },
  {
   "cell_type": "code",
   "execution_count": 18,
   "metadata": {},
   "outputs": [
    {
     "name": "stdout",
     "output_type": "stream",
     "text": [
      "+---------------------------------+\n",
      "|count(DISTINCT currentLocationID)|\n",
      "+---------------------------------+\n",
      "|                             4575|\n",
      "+---------------------------------+\n",
      "\n"
     ]
    }
   ],
   "source": [
    "df.select(countDistinct('currentLocationID')).show()"
   ]
  },
  {
   "cell_type": "code",
   "execution_count": 19,
   "metadata": {},
   "outputs": [
    {
     "data": {
      "text/html": [
       "<div>\n",
       "<style scoped>\n",
       "    .dataframe tbody tr th:only-of-type {\n",
       "        vertical-align: middle;\n",
       "    }\n",
       "\n",
       "    .dataframe tbody tr th {\n",
       "        vertical-align: top;\n",
       "    }\n",
       "\n",
       "    .dataframe thead th {\n",
       "        text-align: right;\n",
       "    }\n",
       "</style>\n",
       "<table border=\"1\" class=\"dataframe\">\n",
       "  <thead>\n",
       "    <tr style=\"text-align: right;\">\n",
       "      <th></th>\n",
       "      <th>currentLocationID</th>\n",
       "      <th>currentLocationType</th>\n",
       "    </tr>\n",
       "  </thead>\n",
       "  <tbody>\n",
       "    <tr>\n",
       "      <th>0</th>\n",
       "      <td>3103</td>\n",
       "      <td>residential</td>\n",
       "    </tr>\n",
       "    <tr>\n",
       "      <th>1</th>\n",
       "      <td>4607</td>\n",
       "      <td>employment</td>\n",
       "    </tr>\n",
       "    <tr>\n",
       "      <th>2</th>\n",
       "      <td>3629</td>\n",
       "      <td>shopping_mall</td>\n",
       "    </tr>\n",
       "    <tr>\n",
       "      <th>3</th>\n",
       "      <td>1253</td>\n",
       "      <td>residential</td>\n",
       "    </tr>\n",
       "    <tr>\n",
       "      <th>4</th>\n",
       "      <td>1173</td>\n",
       "      <td>residential</td>\n",
       "    </tr>\n",
       "    <tr>\n",
       "      <th>5</th>\n",
       "      <td>1483</td>\n",
       "      <td>residential</td>\n",
       "    </tr>\n",
       "    <tr>\n",
       "      <th>6</th>\n",
       "      <td>2461</td>\n",
       "      <td>residential</td>\n",
       "    </tr>\n",
       "    <tr>\n",
       "      <th>7</th>\n",
       "      <td>3096</td>\n",
       "      <td>residential</td>\n",
       "    </tr>\n",
       "    <tr>\n",
       "      <th>8</th>\n",
       "      <td>3974</td>\n",
       "      <td>employment</td>\n",
       "    </tr>\n",
       "    <tr>\n",
       "      <th>9</th>\n",
       "      <td>4129</td>\n",
       "      <td>employment</td>\n",
       "    </tr>\n",
       "  </tbody>\n",
       "</table>\n",
       "</div>"
      ],
      "text/plain": [
       "   currentLocationID currentLocationType\n",
       "0               3103         residential\n",
       "1               4607          employment\n",
       "2               3629       shopping_mall\n",
       "3               1253         residential\n",
       "4               1173         residential\n",
       "5               1483         residential\n",
       "6               2461         residential\n",
       "7               3096         residential\n",
       "8               3974          employment\n",
       "9               4129          employment"
      ]
     },
     "execution_count": 19,
     "metadata": {},
     "output_type": "execute_result"
    }
   ],
   "source": [
    "df.select(['currentLocationID', 'currentLocationType']).dropDuplicates().limit(10).toPandas()"
   ]
  },
  {
   "cell_type": "markdown",
   "metadata": {},
   "source": [
    "Note: only subset is diplayed"
   ]
  },
  {
   "cell_type": "markdown",
   "metadata": {},
   "source": [
    "#### Q6: Which school is the closest to a residence ID = 3115? Hint: Use Euclidean distance using the lat and long."
   ]
  },
  {
   "cell_type": "code",
   "execution_count": 20,
   "metadata": {},
   "outputs": [
    {
     "data": {
      "text/html": [
       "<div>\n",
       "<style scoped>\n",
       "    .dataframe tbody tr th:only-of-type {\n",
       "        vertical-align: middle;\n",
       "    }\n",
       "\n",
       "    .dataframe tbody tr th {\n",
       "        vertical-align: top;\n",
       "    }\n",
       "\n",
       "    .dataframe thead th {\n",
       "        text-align: right;\n",
       "    }\n",
       "</style>\n",
       "<table border=\"1\" class=\"dataframe\">\n",
       "  <thead>\n",
       "    <tr style=\"text-align: right;\">\n",
       "      <th></th>\n",
       "      <th>currentLocationID</th>\n",
       "      <th>currentLocationType</th>\n",
       "      <th>lon</th>\n",
       "      <th>lat</th>\n",
       "    </tr>\n",
       "  </thead>\n",
       "  <tbody>\n",
       "    <tr>\n",
       "      <th>0</th>\n",
       "      <td>3115</td>\n",
       "      <td>residential</td>\n",
       "      <td>106.795937</td>\n",
       "      <td>-6.190224</td>\n",
       "    </tr>\n",
       "  </tbody>\n",
       "</table>\n",
       "</div>"
      ],
      "text/plain": [
       "   currentLocationID currentLocationType         lon       lat\n",
       "0               3115         residential  106.795937 -6.190224"
      ]
     },
     "execution_count": 20,
     "metadata": {},
     "output_type": "execute_result"
    }
   ],
   "source": [
    "# step 1: find out coordinates for said location\n",
    "df.select(['currentLocationID', 'currentLocationType', 'lon', 'lat']).where(col('currentLocationID') == 3115).limit(1).toPandas()"
   ]
  },
  {
   "cell_type": "code",
   "execution_count": 21,
   "metadata": {},
   "outputs": [],
   "source": [
    "# step 2: separate out schools\n",
    "schools = df.select(['currentLocationID', 'currentLocationType', 'lon', 'lat']).where(col('currentLocationType') == 'school').dropDuplicates()"
   ]
  },
  {
   "cell_type": "code",
   "execution_count": 22,
   "metadata": {},
   "outputs": [],
   "source": [
    "# step 3: define a function to compute distance from said residence\n",
    "\n",
    "def distance_(long, lat):\n",
    "    # coordinates for 3115\n",
    "    src = (106.795937, -6.190224)\n",
    "    \n",
    "    dest = (long, lat)\n",
    "    \n",
    "    return distance.euclidean(src, dest)\n",
    "    \n",
    "\n",
    "distance_udf = udf(distance_, FloatType())"
   ]
  },
  {
   "cell_type": "code",
   "execution_count": 23,
   "metadata": {},
   "outputs": [
    {
     "data": {
      "text/html": [
       "<div>\n",
       "<style scoped>\n",
       "    .dataframe tbody tr th:only-of-type {\n",
       "        vertical-align: middle;\n",
       "    }\n",
       "\n",
       "    .dataframe tbody tr th {\n",
       "        vertical-align: top;\n",
       "    }\n",
       "\n",
       "    .dataframe thead th {\n",
       "        text-align: right;\n",
       "    }\n",
       "</style>\n",
       "<table border=\"1\" class=\"dataframe\">\n",
       "  <thead>\n",
       "    <tr style=\"text-align: right;\">\n",
       "      <th></th>\n",
       "      <th>currentLocationID</th>\n",
       "      <th>currentLocationType</th>\n",
       "      <th>lon</th>\n",
       "      <th>lat</th>\n",
       "      <th>distance_from_home</th>\n",
       "    </tr>\n",
       "  </thead>\n",
       "  <tbody>\n",
       "    <tr>\n",
       "      <th>0</th>\n",
       "      <td>3563</td>\n",
       "      <td>school</td>\n",
       "      <td>106.797409</td>\n",
       "      <td>-6.204529</td>\n",
       "      <td>0.014381</td>\n",
       "    </tr>\n",
       "    <tr>\n",
       "      <th>1</th>\n",
       "      <td>3584</td>\n",
       "      <td>school</td>\n",
       "      <td>106.824310</td>\n",
       "      <td>-6.192981</td>\n",
       "      <td>0.028507</td>\n",
       "    </tr>\n",
       "    <tr>\n",
       "      <th>2</th>\n",
       "      <td>3592</td>\n",
       "      <td>school</td>\n",
       "      <td>106.821419</td>\n",
       "      <td>-6.206992</td>\n",
       "      <td>0.030504</td>\n",
       "    </tr>\n",
       "    <tr>\n",
       "      <th>3</th>\n",
       "      <td>3606</td>\n",
       "      <td>school</td>\n",
       "      <td>106.824028</td>\n",
       "      <td>-6.177089</td>\n",
       "      <td>0.031010</td>\n",
       "    </tr>\n",
       "    <tr>\n",
       "      <th>4</th>\n",
       "      <td>3601</td>\n",
       "      <td>school</td>\n",
       "      <td>106.815590</td>\n",
       "      <td>-6.215044</td>\n",
       "      <td>0.031659</td>\n",
       "    </tr>\n",
       "    <tr>\n",
       "      <th>5</th>\n",
       "      <td>3582</td>\n",
       "      <td>school</td>\n",
       "      <td>106.801839</td>\n",
       "      <td>-6.154850</td>\n",
       "      <td>0.035863</td>\n",
       "    </tr>\n",
       "    <tr>\n",
       "      <th>6</th>\n",
       "      <td>3561</td>\n",
       "      <td>school</td>\n",
       "      <td>106.814739</td>\n",
       "      <td>-6.224769</td>\n",
       "      <td>0.039330</td>\n",
       "    </tr>\n",
       "    <tr>\n",
       "      <th>7</th>\n",
       "      <td>3560</td>\n",
       "      <td>school</td>\n",
       "      <td>106.836638</td>\n",
       "      <td>-6.180131</td>\n",
       "      <td>0.041934</td>\n",
       "    </tr>\n",
       "    <tr>\n",
       "      <th>8</th>\n",
       "      <td>3567</td>\n",
       "      <td>school</td>\n",
       "      <td>106.821917</td>\n",
       "      <td>-6.227399</td>\n",
       "      <td>0.045354</td>\n",
       "    </tr>\n",
       "    <tr>\n",
       "      <th>9</th>\n",
       "      <td>3577</td>\n",
       "      <td>school</td>\n",
       "      <td>106.746098</td>\n",
       "      <td>-6.199995</td>\n",
       "      <td>0.050788</td>\n",
       "    </tr>\n",
       "  </tbody>\n",
       "</table>\n",
       "</div>"
      ],
      "text/plain": [
       "   currentLocationID currentLocationType         lon       lat  \\\n",
       "0               3563              school  106.797409 -6.204529   \n",
       "1               3584              school  106.824310 -6.192981   \n",
       "2               3592              school  106.821419 -6.206992   \n",
       "3               3606              school  106.824028 -6.177089   \n",
       "4               3601              school  106.815590 -6.215044   \n",
       "5               3582              school  106.801839 -6.154850   \n",
       "6               3561              school  106.814739 -6.224769   \n",
       "7               3560              school  106.836638 -6.180131   \n",
       "8               3567              school  106.821917 -6.227399   \n",
       "9               3577              school  106.746098 -6.199995   \n",
       "\n",
       "   distance_from_home  \n",
       "0            0.014381  \n",
       "1            0.028507  \n",
       "2            0.030504  \n",
       "3            0.031010  \n",
       "4            0.031659  \n",
       "5            0.035863  \n",
       "6            0.039330  \n",
       "7            0.041934  \n",
       "8            0.045354  \n",
       "9            0.050788  "
      ]
     },
     "execution_count": 23,
     "metadata": {},
     "output_type": "execute_result"
    }
   ],
   "source": [
    "# step 4: find distance and pick top 1 with least distance\n",
    "schools.withColumn('distance_from_home', distance_udf(df.lon, df.lat)).orderBy('distance_from_home').limit(10).toPandas()"
   ]
  },
  {
   "cell_type": "markdown",
   "metadata": {},
   "source": [
    "Ans: 3563"
   ]
  },
  {
   "cell_type": "markdown",
   "metadata": {},
   "source": [
    "#### Q7: What percentage of individuals aged b/w 30 and 60 visit schools at 08:00 am?"
   ]
  },
  {
   "cell_type": "code",
   "execution_count": 24,
   "metadata": {},
   "outputs": [],
   "source": [
    "Q7 = df.withColumn('time', date_format('Date_Time', 'HH:mm')).select(['id', 'age', 'time']).where((col('age') >= 30) & (col('age') <= 60))"
   ]
  },
  {
   "cell_type": "markdown",
   "metadata": {},
   "source": [
    "_Total 30-60 People_"
   ]
  },
  {
   "cell_type": "code",
   "execution_count": 25,
   "metadata": {},
   "outputs": [
    {
     "name": "stdout",
     "output_type": "stream",
     "text": [
      "+------------------+\n",
      "|count(DISTINCT id)|\n",
      "+------------------+\n",
      "|              4962|\n",
      "+------------------+\n",
      "\n"
     ]
    }
   ],
   "source": [
    "Q7.agg(countDistinct('id')).show()"
   ]
  },
  {
   "cell_type": "markdown",
   "metadata": {},
   "source": [
    "_Those who visit schools at 8_"
   ]
  },
  {
   "cell_type": "code",
   "execution_count": 26,
   "metadata": {},
   "outputs": [
    {
     "name": "stdout",
     "output_type": "stream",
     "text": [
      "+------------------+\n",
      "|count(DISTINCT id)|\n",
      "+------------------+\n",
      "|              4816|\n",
      "+------------------+\n",
      "\n"
     ]
    }
   ],
   "source": [
    "Q7.where((col('currentLocationType') == 'school') & (col('time') == '08:00')).agg(countDistinct('id')).show()"
   ]
  },
  {
   "cell_type": "code",
   "execution_count": 27,
   "metadata": {
    "scrolled": true
   },
   "outputs": [
    {
     "name": "stdout",
     "output_type": "stream",
     "text": [
      "97.05763804917372 of 30-60 years people visit schools around 8\n"
     ]
    }
   ],
   "source": [
    "print('{} of 30-60 years people visit schools around 8'.format((4816 / 4962) * 100))"
   ]
  },
  {
   "cell_type": "markdown",
   "metadata": {},
   "source": [
    "#### Q9: What is the proximity (number of individuals sharing the same location) of an individual ID (37415) at a given date and time?"
   ]
  },
  {
   "cell_type": "code",
   "execution_count": 28,
   "metadata": {},
   "outputs": [],
   "source": [
    "user_id = 37415"
   ]
  },
  {
   "cell_type": "code",
   "execution_count": 29,
   "metadata": {},
   "outputs": [],
   "source": [
    "user_data = df.select(['id', 'Date_Time', 'currentLocationID', 'currentLocationType']).where(col('id') == user_id)"
   ]
  },
  {
   "cell_type": "code",
   "execution_count": 30,
   "metadata": {},
   "outputs": [],
   "source": [
    "temp_df = df.select(['id', 'Date_Time', 'currentLocationID', 'currentLocationType'])"
   ]
  },
  {
   "cell_type": "code",
   "execution_count": 31,
   "metadata": {},
   "outputs": [],
   "source": [
    "# join with full data to pick all people who shared location with 37415 at some time\n",
    "joined = user_data.alias('user').join(temp_df.alias('proximity'), on=['Date_Time', 'currentLocationID', 'currentLocationType'], how='inner')"
   ]
  },
  {
   "cell_type": "code",
   "execution_count": 32,
   "metadata": {},
   "outputs": [
    {
     "data": {
      "text/html": [
       "<div>\n",
       "<style scoped>\n",
       "    .dataframe tbody tr th:only-of-type {\n",
       "        vertical-align: middle;\n",
       "    }\n",
       "\n",
       "    .dataframe tbody tr th {\n",
       "        vertical-align: top;\n",
       "    }\n",
       "\n",
       "    .dataframe thead th {\n",
       "        text-align: right;\n",
       "    }\n",
       "</style>\n",
       "<table border=\"1\" class=\"dataframe\">\n",
       "  <thead>\n",
       "    <tr style=\"text-align: right;\">\n",
       "      <th></th>\n",
       "      <th>Date_Time</th>\n",
       "      <th>currentLocationID</th>\n",
       "      <th>currentLocationType</th>\n",
       "      <th>count(DISTINCT proximity.id)</th>\n",
       "    </tr>\n",
       "  </thead>\n",
       "  <tbody>\n",
       "    <tr>\n",
       "      <th>0</th>\n",
       "      <td>2020-01-01 00:00:00</td>\n",
       "      <td>3000</td>\n",
       "      <td>residential</td>\n",
       "      <td>4</td>\n",
       "    </tr>\n",
       "    <tr>\n",
       "      <th>1</th>\n",
       "      <td>2020-01-01 08:00:00</td>\n",
       "      <td>3690</td>\n",
       "      <td>employment</td>\n",
       "      <td>5</td>\n",
       "    </tr>\n",
       "    <tr>\n",
       "      <th>2</th>\n",
       "      <td>2020-01-01 16:00:00</td>\n",
       "      <td>3690</td>\n",
       "      <td>employment</td>\n",
       "      <td>2</td>\n",
       "    </tr>\n",
       "    <tr>\n",
       "      <th>3</th>\n",
       "      <td>2020-01-01 19:00:00</td>\n",
       "      <td>3628</td>\n",
       "      <td>shopping_mall</td>\n",
       "      <td>55</td>\n",
       "    </tr>\n",
       "    <tr>\n",
       "      <th>4</th>\n",
       "      <td>2020-01-01 22:00:00</td>\n",
       "      <td>3000</td>\n",
       "      <td>residential</td>\n",
       "      <td>4</td>\n",
       "    </tr>\n",
       "    <tr>\n",
       "      <th>5</th>\n",
       "      <td>2020-01-02 00:00:00</td>\n",
       "      <td>3000</td>\n",
       "      <td>residential</td>\n",
       "      <td>4</td>\n",
       "    </tr>\n",
       "    <tr>\n",
       "      <th>6</th>\n",
       "      <td>2020-01-02 08:00:00</td>\n",
       "      <td>3690</td>\n",
       "      <td>employment</td>\n",
       "      <td>5</td>\n",
       "    </tr>\n",
       "    <tr>\n",
       "      <th>7</th>\n",
       "      <td>2020-01-02 16:00:00</td>\n",
       "      <td>4771</td>\n",
       "      <td>market</td>\n",
       "      <td>13</td>\n",
       "    </tr>\n",
       "    <tr>\n",
       "      <th>8</th>\n",
       "      <td>2020-01-02 19:00:00</td>\n",
       "      <td>4796</td>\n",
       "      <td>market</td>\n",
       "      <td>66</td>\n",
       "    </tr>\n",
       "    <tr>\n",
       "      <th>9</th>\n",
       "      <td>2020-01-02 22:00:00</td>\n",
       "      <td>3000</td>\n",
       "      <td>residential</td>\n",
       "      <td>4</td>\n",
       "    </tr>\n",
       "    <tr>\n",
       "      <th>10</th>\n",
       "      <td>2020-01-03 00:00:00</td>\n",
       "      <td>4795</td>\n",
       "      <td>market</td>\n",
       "      <td>8</td>\n",
       "    </tr>\n",
       "    <tr>\n",
       "      <th>11</th>\n",
       "      <td>2020-01-03 08:00:00</td>\n",
       "      <td>3000</td>\n",
       "      <td>residential</td>\n",
       "      <td>1</td>\n",
       "    </tr>\n",
       "    <tr>\n",
       "      <th>12</th>\n",
       "      <td>2020-01-03 16:00:00</td>\n",
       "      <td>3690</td>\n",
       "      <td>employment</td>\n",
       "      <td>5</td>\n",
       "    </tr>\n",
       "    <tr>\n",
       "      <th>13</th>\n",
       "      <td>2020-01-03 19:00:00</td>\n",
       "      <td>3000</td>\n",
       "      <td>residential</td>\n",
       "      <td>2</td>\n",
       "    </tr>\n",
       "    <tr>\n",
       "      <th>14</th>\n",
       "      <td>2020-01-03 22:00:00</td>\n",
       "      <td>3000</td>\n",
       "      <td>residential</td>\n",
       "      <td>4</td>\n",
       "    </tr>\n",
       "    <tr>\n",
       "      <th>15</th>\n",
       "      <td>2020-01-04 00:00:00</td>\n",
       "      <td>3000</td>\n",
       "      <td>residential</td>\n",
       "      <td>4</td>\n",
       "    </tr>\n",
       "    <tr>\n",
       "      <th>16</th>\n",
       "      <td>2020-01-04 08:00:00</td>\n",
       "      <td>3690</td>\n",
       "      <td>employment</td>\n",
       "      <td>5</td>\n",
       "    </tr>\n",
       "    <tr>\n",
       "      <th>17</th>\n",
       "      <td>2020-01-04 16:00:00</td>\n",
       "      <td>3690</td>\n",
       "      <td>employment</td>\n",
       "      <td>5</td>\n",
       "    </tr>\n",
       "    <tr>\n",
       "      <th>18</th>\n",
       "      <td>2020-01-04 19:00:00</td>\n",
       "      <td>3617</td>\n",
       "      <td>shopping_mall</td>\n",
       "      <td>47</td>\n",
       "    </tr>\n",
       "    <tr>\n",
       "      <th>19</th>\n",
       "      <td>2020-01-04 22:00:00</td>\n",
       "      <td>3000</td>\n",
       "      <td>residential</td>\n",
       "      <td>4</td>\n",
       "    </tr>\n",
       "  </tbody>\n",
       "</table>\n",
       "</div>"
      ],
      "text/plain": [
       "             Date_Time  currentLocationID currentLocationType  \\\n",
       "0  2020-01-01 00:00:00               3000         residential   \n",
       "1  2020-01-01 08:00:00               3690          employment   \n",
       "2  2020-01-01 16:00:00               3690          employment   \n",
       "3  2020-01-01 19:00:00               3628       shopping_mall   \n",
       "4  2020-01-01 22:00:00               3000         residential   \n",
       "5  2020-01-02 00:00:00               3000         residential   \n",
       "6  2020-01-02 08:00:00               3690          employment   \n",
       "7  2020-01-02 16:00:00               4771              market   \n",
       "8  2020-01-02 19:00:00               4796              market   \n",
       "9  2020-01-02 22:00:00               3000         residential   \n",
       "10 2020-01-03 00:00:00               4795              market   \n",
       "11 2020-01-03 08:00:00               3000         residential   \n",
       "12 2020-01-03 16:00:00               3690          employment   \n",
       "13 2020-01-03 19:00:00               3000         residential   \n",
       "14 2020-01-03 22:00:00               3000         residential   \n",
       "15 2020-01-04 00:00:00               3000         residential   \n",
       "16 2020-01-04 08:00:00               3690          employment   \n",
       "17 2020-01-04 16:00:00               3690          employment   \n",
       "18 2020-01-04 19:00:00               3617       shopping_mall   \n",
       "19 2020-01-04 22:00:00               3000         residential   \n",
       "\n",
       "    count(DISTINCT proximity.id)  \n",
       "0                              4  \n",
       "1                              5  \n",
       "2                              2  \n",
       "3                             55  \n",
       "4                              4  \n",
       "5                              4  \n",
       "6                              5  \n",
       "7                             13  \n",
       "8                             66  \n",
       "9                              4  \n",
       "10                             8  \n",
       "11                             1  \n",
       "12                             5  \n",
       "13                             2  \n",
       "14                             4  \n",
       "15                             4  \n",
       "16                             5  \n",
       "17                             5  \n",
       "18                            47  \n",
       "19                             4  "
      ]
     },
     "execution_count": 32,
     "metadata": {},
     "output_type": "execute_result"
    }
   ],
   "source": [
    "# take count\n",
    "joined.groupBy(['user.Date_Time', 'user.currentLocationID', 'user.currentLocationType']).agg(countDistinct('proximity.id')).orderBy('user.Date_Time').limit(20).toPandas()"
   ]
  },
  {
   "cell_type": "markdown",
   "metadata": {},
   "source": [
    "Note: Only subset is shown above"
   ]
  },
  {
   "cell_type": "markdown",
   "metadata": {},
   "source": [
    "#### Q10: What is the age and gender of individual 37415? Did this individual get infected? If yes, how long did the infection last? And did the individual die?"
   ]
  },
  {
   "cell_type": "markdown",
   "metadata": {},
   "source": [
    "_What is the age and gender of individual 37415?_"
   ]
  },
  {
   "cell_type": "code",
   "execution_count": 33,
   "metadata": {},
   "outputs": [
    {
     "data": {
      "text/html": [
       "<div>\n",
       "<style scoped>\n",
       "    .dataframe tbody tr th:only-of-type {\n",
       "        vertical-align: middle;\n",
       "    }\n",
       "\n",
       "    .dataframe tbody tr th {\n",
       "        vertical-align: top;\n",
       "    }\n",
       "\n",
       "    .dataframe thead th {\n",
       "        text-align: right;\n",
       "    }\n",
       "</style>\n",
       "<table border=\"1\" class=\"dataframe\">\n",
       "  <thead>\n",
       "    <tr style=\"text-align: right;\">\n",
       "      <th></th>\n",
       "      <th>id</th>\n",
       "      <th>age</th>\n",
       "      <th>gender</th>\n",
       "    </tr>\n",
       "  </thead>\n",
       "  <tbody>\n",
       "    <tr>\n",
       "      <th>0</th>\n",
       "      <td>37415</td>\n",
       "      <td>30</td>\n",
       "      <td>1</td>\n",
       "    </tr>\n",
       "  </tbody>\n",
       "</table>\n",
       "</div>"
      ],
      "text/plain": [
       "      id  age  gender\n",
       "0  37415   30       1"
      ]
     },
     "execution_count": 33,
     "metadata": {},
     "output_type": "execute_result"
    }
   ],
   "source": [
    "df.select(['id', 'age', 'gender']).where(col('id') == 37415).limit(1).toPandas()"
   ]
  },
  {
   "cell_type": "markdown",
   "metadata": {},
   "source": [
    "_Did this individual get infected?_"
   ]
  },
  {
   "cell_type": "code",
   "execution_count": 34,
   "metadata": {},
   "outputs": [
    {
     "data": {
      "text/plain": [
       "True"
      ]
     },
     "execution_count": 34,
     "metadata": {},
     "output_type": "execute_result"
    }
   ],
   "source": [
    "# check if this user has any row for infected status\n",
    "df.select(['id', 'infection_status']).where((col('id') == 37415) & (col('infection_status') == 'infected')).limit(1).toPandas().shape[0] > 0"
   ]
  },
  {
   "cell_type": "markdown",
   "metadata": {},
   "source": [
    "_If yes, how long did the infection last?_"
   ]
  },
  {
   "cell_type": "code",
   "execution_count": 35,
   "metadata": {},
   "outputs": [],
   "source": [
    "# define sample dataframe\n",
    "user_37415_infection = df.select(['id', 'Date_Time', 'infection_status']).where((col('id') == 37415) & (col('infection_status') == 'infected'))"
   ]
  },
  {
   "cell_type": "code",
   "execution_count": 36,
   "metadata": {},
   "outputs": [],
   "source": [
    "# take min and max of infection span\n",
    "infec_span = user_37415_infection.agg(s_min('Date_Time').alias('Start'), s_max('Date_Time').alias('End')).toPandas()"
   ]
  },
  {
   "cell_type": "code",
   "execution_count": 37,
   "metadata": {},
   "outputs": [
    {
     "data": {
      "text/plain": [
       "Timedelta('27 days 13:00:00')"
      ]
     },
     "execution_count": 37,
     "metadata": {},
     "output_type": "execute_result"
    }
   ],
   "source": [
    "# take difference to know infection duration\n",
    "infec_span.loc[0, 'End'] - infec_span.loc[0, 'Start']"
   ]
  },
  {
   "cell_type": "markdown",
   "metadata": {},
   "source": [
    "_And did the individual die?_"
   ]
  },
  {
   "cell_type": "code",
   "execution_count": 38,
   "metadata": {},
   "outputs": [
    {
     "data": {
      "text/plain": [
       "False"
      ]
     },
     "execution_count": 38,
     "metadata": {},
     "output_type": "execute_result"
    }
   ],
   "source": [
    "# check if this user has a row for deceased status\n",
    "df.select(['id', 'infection_status']).where((col('id') == 37415) & (col('infection_status') == 'deceased')).limit(1).toPandas().shape[0] > 0"
   ]
  },
  {
   "cell_type": "markdown",
   "metadata": {},
   "source": [
    "* Yes, individual got infected\n",
    "* Infection duration was 27 days, 13 hours\n",
    "* individual did not die"
   ]
  },
  {
   "cell_type": "markdown",
   "metadata": {},
   "source": [
    "#### Q11: What is the infection and mortality rate of health care workers?"
   ]
  },
  {
   "cell_type": "code",
   "execution_count": 39,
   "metadata": {},
   "outputs": [
    {
     "name": "stdout",
     "output_type": "stream",
     "text": [
      "+-------------+\n",
      "|  type_of_job|\n",
      "+-------------+\n",
      "|       No Job|\n",
      "|Remote worker|\n",
      "|    Other job|\n",
      "|Health worker|\n",
      "+-------------+\n",
      "\n"
     ]
    }
   ],
   "source": [
    "df.select(['type_of_job']).dropDuplicates().show()"
   ]
  },
  {
   "cell_type": "code",
   "execution_count": 40,
   "metadata": {},
   "outputs": [],
   "source": [
    "health = df.select(['id', 'type_of_job', 'infection_status']).where(col('type_of_job')== 'Health worker')"
   ]
  },
  {
   "cell_type": "markdown",
   "metadata": {},
   "source": [
    "_Total Health Workers_"
   ]
  },
  {
   "cell_type": "code",
   "execution_count": 41,
   "metadata": {},
   "outputs": [
    {
     "name": "stdout",
     "output_type": "stream",
     "text": [
      "+------------------+\n",
      "|count(DISTINCT id)|\n",
      "+------------------+\n",
      "|               403|\n",
      "+------------------+\n",
      "\n"
     ]
    }
   ],
   "source": [
    "health.agg(countDistinct('id')).show()"
   ]
  },
  {
   "cell_type": "markdown",
   "metadata": {},
   "source": [
    "_Infected_"
   ]
  },
  {
   "cell_type": "code",
   "execution_count": 42,
   "metadata": {},
   "outputs": [
    {
     "name": "stdout",
     "output_type": "stream",
     "text": [
      "+------------------+\n",
      "|count(DISTINCT id)|\n",
      "+------------------+\n",
      "|               387|\n",
      "+------------------+\n",
      "\n"
     ]
    }
   ],
   "source": [
    "health.where(col('infection_status') == 'infected').agg(countDistinct('id')).show()"
   ]
  },
  {
   "cell_type": "markdown",
   "metadata": {},
   "source": [
    "_Died_"
   ]
  },
  {
   "cell_type": "code",
   "execution_count": 43,
   "metadata": {},
   "outputs": [
    {
     "name": "stdout",
     "output_type": "stream",
     "text": [
      "+------------------+\n",
      "|count(DISTINCT id)|\n",
      "+------------------+\n",
      "|                25|\n",
      "+------------------+\n",
      "\n"
     ]
    }
   ],
   "source": [
    "health.where(col('infection_status') == 'deceased').agg(countDistinct('id')).show()"
   ]
  },
  {
   "cell_type": "code",
   "execution_count": 44,
   "metadata": {},
   "outputs": [
    {
     "name": "stdout",
     "output_type": "stream",
     "text": [
      "So, health sector has infection rate of 96.02977667493796 and mortality rate of 6.20347394540943\n"
     ]
    }
   ],
   "source": [
    "print('So, health sector has infection rate of {} and mortality rate of {}'.format((387 / 403) * 100, (25 / 403) * 100))"
   ]
  },
  {
   "cell_type": "markdown",
   "metadata": {},
   "source": [
    "#### Q12:  Does the mortality rate change with age and gender?"
   ]
  },
  {
   "cell_type": "code",
   "execution_count": 45,
   "metadata": {},
   "outputs": [],
   "source": [
    "age_gender = df.select(['id', 'age', 'gender', 'infection_status'])"
   ]
  },
  {
   "cell_type": "markdown",
   "metadata": {},
   "source": [
    "_**Age**_"
   ]
  },
  {
   "cell_type": "code",
   "execution_count": 62,
   "metadata": {},
   "outputs": [],
   "source": [
    "# group by age and infection status\n",
    "age_pdf = age_gender.groupBy(['age', 'infection_status']).agg(countDistinct('id').alias('people')).toPandas()"
   ]
  },
  {
   "cell_type": "code",
   "execution_count": 63,
   "metadata": {},
   "outputs": [],
   "source": [
    "# sort data just to make more sense\n",
    "age_pdf.sort_values(by='age', inplace=True)"
   ]
  },
  {
   "cell_type": "code",
   "execution_count": 64,
   "metadata": {},
   "outputs": [],
   "source": [
    "# pivot in order to compute mortality rate\n",
    "age_pdf = age_pdf.pivot(index='age', columns='infection_status', values='people')"
   ]
  },
  {
   "cell_type": "code",
   "execution_count": 65,
   "metadata": {},
   "outputs": [],
   "source": [
    "# fill blanks with 0, just to simplify\n",
    "age_pdf.fillna(0, inplace=True)"
   ]
  },
  {
   "cell_type": "code",
   "execution_count": 66,
   "metadata": {},
   "outputs": [],
   "source": [
    "# claculate deceased ratio or mortality rate\n",
    "age_pdf['mortality_rate'] = (age_pdf['deceased'] / age_pdf['susceptible']) * 100"
   ]
  },
  {
   "cell_type": "code",
   "execution_count": 67,
   "metadata": {},
   "outputs": [],
   "source": [
    "# separate out age from index, into a column\n",
    "age_pdf.reset_index(inplace=True)\n",
    "age_pdf.rename_axis(\"index\", axis=\"columns\", inplace=True)"
   ]
  },
  {
   "cell_type": "code",
   "execution_count": 68,
   "metadata": {},
   "outputs": [
    {
     "data": {
      "text/html": [
       "<div>\n",
       "<style scoped>\n",
       "    .dataframe tbody tr th:only-of-type {\n",
       "        vertical-align: middle;\n",
       "    }\n",
       "\n",
       "    .dataframe tbody tr th {\n",
       "        vertical-align: top;\n",
       "    }\n",
       "\n",
       "    .dataframe thead th {\n",
       "        text-align: right;\n",
       "    }\n",
       "</style>\n",
       "<table border=\"1\" class=\"dataframe\">\n",
       "  <thead>\n",
       "    <tr style=\"text-align: right;\">\n",
       "      <th>index</th>\n",
       "      <th>age</th>\n",
       "      <th>deceased</th>\n",
       "      <th>infected</th>\n",
       "      <th>recovered</th>\n",
       "      <th>susceptible</th>\n",
       "      <th>mortality_rate</th>\n",
       "    </tr>\n",
       "  </thead>\n",
       "  <tbody>\n",
       "    <tr>\n",
       "      <th>0</th>\n",
       "      <td>5</td>\n",
       "      <td>0.0</td>\n",
       "      <td>53.0</td>\n",
       "      <td>53.0</td>\n",
       "      <td>78.0</td>\n",
       "      <td>0.0</td>\n",
       "    </tr>\n",
       "    <tr>\n",
       "      <th>1</th>\n",
       "      <td>6</td>\n",
       "      <td>0.0</td>\n",
       "      <td>49.0</td>\n",
       "      <td>49.0</td>\n",
       "      <td>76.0</td>\n",
       "      <td>0.0</td>\n",
       "    </tr>\n",
       "    <tr>\n",
       "      <th>2</th>\n",
       "      <td>7</td>\n",
       "      <td>0.0</td>\n",
       "      <td>52.0</td>\n",
       "      <td>52.0</td>\n",
       "      <td>78.0</td>\n",
       "      <td>0.0</td>\n",
       "    </tr>\n",
       "    <tr>\n",
       "      <th>3</th>\n",
       "      <td>8</td>\n",
       "      <td>0.0</td>\n",
       "      <td>60.0</td>\n",
       "      <td>60.0</td>\n",
       "      <td>92.0</td>\n",
       "      <td>0.0</td>\n",
       "    </tr>\n",
       "    <tr>\n",
       "      <th>4</th>\n",
       "      <td>9</td>\n",
       "      <td>0.0</td>\n",
       "      <td>49.0</td>\n",
       "      <td>49.0</td>\n",
       "      <td>78.0</td>\n",
       "      <td>0.0</td>\n",
       "    </tr>\n",
       "  </tbody>\n",
       "</table>\n",
       "</div>"
      ],
      "text/plain": [
       "index  age  deceased  infected  recovered  susceptible  mortality_rate\n",
       "0        5       0.0      53.0       53.0         78.0             0.0\n",
       "1        6       0.0      49.0       49.0         76.0             0.0\n",
       "2        7       0.0      52.0       52.0         78.0             0.0\n",
       "3        8       0.0      60.0       60.0         92.0             0.0\n",
       "4        9       0.0      49.0       49.0         78.0             0.0"
      ]
     },
     "execution_count": 68,
     "metadata": {},
     "output_type": "execute_result"
    }
   ],
   "source": [
    "age_pdf.head()"
   ]
  },
  {
   "cell_type": "code",
   "execution_count": 69,
   "metadata": {
    "scrolled": false
   },
   "outputs": [
    {
     "data": {
      "text/plain": [
       "<BarContainer object of 76 artists>"
      ]
     },
     "execution_count": 69,
     "metadata": {},
     "output_type": "execute_result"
    },
    {
     "data": {
      "image/png": "[encoded data removed]",
      "text/plain": [
       "<Figure size 864x432 with 1 Axes>"
      ]
     },
     "metadata": {
      "needs_background": "light"
     },
     "output_type": "display_data"
    }
   ],
   "source": [
    "# visualize to check variation\n",
    "plt.figure(figsize=(12,6))\n",
    "plt.bar(age_pdf['age'], age_pdf['mortality_rate'])"
   ]
  },
  {
   "cell_type": "markdown",
   "metadata": {},
   "source": [
    "Yes, people with higher age tend to be at greater risk of dying"
   ]
  },
  {
   "cell_type": "markdown",
   "metadata": {},
   "source": [
    "_**Gender**_"
   ]
  },
  {
   "cell_type": "code",
   "execution_count": 70,
   "metadata": {},
   "outputs": [],
   "source": [
    "# group by gender and infection status\n",
    "gender_pdf = age_gender.groupBy(['gender', 'infection_status']).agg(countDistinct('id').alias('people')).toPandas()"
   ]
  },
  {
   "cell_type": "code",
   "execution_count": 71,
   "metadata": {},
   "outputs": [],
   "source": [
    "# pivot in order to compute mortality rate\n",
    "gender_pdf = gender_pdf.pivot(index='gender', columns='infection_status', values='people')"
   ]
  },
  {
   "cell_type": "code",
   "execution_count": 72,
   "metadata": {},
   "outputs": [],
   "source": [
    "# separate out gender from index, into a column\n",
    "gender_pdf.reset_index(inplace=True)\n",
    "gender_pdf.rename_axis(\"index\", axis=\"columns\", inplace=True)"
   ]
  },
  {
   "cell_type": "code",
   "execution_count": 73,
   "metadata": {},
   "outputs": [],
   "source": [
    "# fill blanks with 0, just to simplify\n",
    "gender_pdf.fillna(0, inplace=True)"
   ]
  },
  {
   "cell_type": "code",
   "execution_count": 74,
   "metadata": {},
   "outputs": [],
   "source": [
    "# claculate deceased ratio or mortality rate\n",
    "gender_pdf['mortality_rate'] = (gender_pdf['deceased'] / gender_pdf['susceptible']) * 100"
   ]
  },
  {
   "cell_type": "code",
   "execution_count": 75,
   "metadata": {},
   "outputs": [
    {
     "data": {
      "text/html": [
       "<div>\n",
       "<style scoped>\n",
       "    .dataframe tbody tr th:only-of-type {\n",
       "        vertical-align: middle;\n",
       "    }\n",
       "\n",
       "    .dataframe tbody tr th {\n",
       "        vertical-align: top;\n",
       "    }\n",
       "\n",
       "    .dataframe thead th {\n",
       "        text-align: right;\n",
       "    }\n",
       "</style>\n",
       "<table border=\"1\" class=\"dataframe\">\n",
       "  <thead>\n",
       "    <tr style=\"text-align: right;\">\n",
       "      <th>index</th>\n",
       "      <th>gender</th>\n",
       "      <th>mortality_rate</th>\n",
       "    </tr>\n",
       "  </thead>\n",
       "  <tbody>\n",
       "    <tr>\n",
       "      <th>0</th>\n",
       "      <td>0</td>\n",
       "      <td>1.50060</td>\n",
       "    </tr>\n",
       "    <tr>\n",
       "      <th>1</th>\n",
       "      <td>1</td>\n",
       "      <td>2.79944</td>\n",
       "    </tr>\n",
       "  </tbody>\n",
       "</table>\n",
       "</div>"
      ],
      "text/plain": [
       "index  gender  mortality_rate\n",
       "0           0         1.50060\n",
       "1           1         2.79944"
      ]
     },
     "execution_count": 75,
     "metadata": {},
     "output_type": "execute_result"
    }
   ],
   "source": [
    "gender_pdf[['gender', 'mortality_rate']].head()"
   ]
  },
  {
   "cell_type": "markdown",
   "metadata": {},
   "source": [
    "Yes, males tend to be at greater risk of dying"
   ]
  },
  {
   "cell_type": "code",
   "execution_count": null,
   "metadata": {},
   "outputs": [],
   "source": []
  }
 ],
 "metadata": {
  "kernelspec": {
   "display_name": "Python 3",
   "language": "python",
   "name": "python3"
  },
  "language_info": {
   "codemirror_mode": {
    "name": "ipython",
    "version": 3
   },
   "file_extension": ".py",
   "mimetype": "text/x-python",
   "name": "python",
   "nbconvert_exporter": "python",
   "pygments_lexer": "ipython3",
   "version": "3.6.8"
  }
 },
 "nbformat": 4,
 "nbformat_minor": 2
}
